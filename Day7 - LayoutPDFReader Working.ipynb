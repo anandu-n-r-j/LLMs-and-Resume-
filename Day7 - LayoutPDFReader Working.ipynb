{
  "nbformat": 4,
  "nbformat_minor": 0,
  "metadata": {
    "colab": {
      "provenance": []
    },
    "kernelspec": {
      "name": "python3",
      "display_name": "Python 3"
    },
    "language_info": {
      "name": "python"
    }
  },
  "cells": [
    {
      "cell_type": "markdown",
      "source": [
        "**Introduction**\n",
        "\n",
        "Most PDF to text parsers do not provide layout information. Often times, even the sentences are split with arbritrary CR/LFs making it very difficult to find paragraph boundaries. This poses various challenges in chunking and adding long running contextual information such as section header to the passages while indexing/vectorizing PDFs for LLM applications such as retrieval augmented generation (RAG).\n",
        "\n",
        "LayoutPDFReader solves this problem by parsing PDFs along with hierarchical layout information such as:\n",
        "\n",
        "Sections and subsections along with their levels.\n",
        "Paragraphs - combines lines.\n",
        "Links between sections and paragraphs.\n",
        "Tables along with the section the tables are found in.\n",
        "Lists and nested lists.\n",
        "With LayoutPDFReader, developers can find optimal chunks of text to vectorize, and a solution for limited context window sizes of LLMs."
      ],
      "metadata": {
        "id": "2JULsCeQihR1"
      }
    },
    {
      "cell_type": "markdown",
      "source": [
        "**Installation**\n",
        "\n",
        "Install the llmsherpa library."
      ],
      "metadata": {
        "id": "6ZQry7z6iCtO"
      }
    },
    {
      "cell_type": "code",
      "execution_count": 1,
      "metadata": {
        "id": "0BwpEalxgvlN",
        "colab": {
          "base_uri": "https://localhost:8080/"
        },
        "outputId": "28ca3bf0-a26b-4e95-8e56-787c0f65359d"
      },
      "outputs": [
        {
          "output_type": "stream",
          "name": "stdout",
          "text": [
            "Collecting llmsherpa\n",
            "  Downloading llmsherpa-0.1.2-py3-none-any.whl (10 kB)\n",
            "Requirement already satisfied: urllib3 in /usr/local/lib/python3.10/dist-packages (from llmsherpa) (2.0.7)\n",
            "Installing collected packages: llmsherpa\n",
            "Successfully installed llmsherpa-0.1.2\n"
          ]
        }
      ],
      "source": [
        "!pip install llmsherpa"
      ]
    },
    {
      "cell_type": "markdown",
      "source": [
        "The first step in using the LayoutPDFReader is to provide a url or file path to it and get back a document object."
      ],
      "metadata": {
        "id": "qy8mKt1NislJ"
      }
    },
    {
      "cell_type": "code",
      "source": [
        "from llmsherpa.readers import LayoutPDFReader\n",
        "\n",
        "llmsherpa_api_url = \"https://readers.llmsherpa.com/api/document/developer/parseDocument?renderFormat=all\"\n",
        "pdf_url = \"/content/CKMourya_Resume.pdf\" # also allowed is a file path e.g. /home/downloads/xyz.pdf\n",
        "pdf_reader = LayoutPDFReader(llmsherpa_api_url)\n",
        "doc = pdf_reader.read_pdf(pdf_url)"
      ],
      "metadata": {
        "id": "wVCmWhxJiz9l"
      },
      "execution_count": 2,
      "outputs": []
    },
    {
      "cell_type": "code",
      "source": [
        "doc"
      ],
      "metadata": {
        "colab": {
          "base_uri": "https://localhost:8080/"
        },
        "id": "A1G3hgehVVo3",
        "outputId": "e0a57a6b-f4cd-4b28-bf71-4bfe7693be13"
      },
      "execution_count": 3,
      "outputs": [
        {
          "output_type": "execute_result",
          "data": {
            "text/plain": [
              "<llmsherpa.readers.layout_reader.Document at 0x7dca537370d0>"
            ]
          },
          "metadata": {},
          "execution_count": 3
        }
      ]
    },
    {
      "cell_type": "code",
      "source": [
        "doc.sections()"
      ],
      "metadata": {
        "colab": {
          "base_uri": "https://localhost:8080/"
        },
        "id": "cnlfcE_fVrgc",
        "outputId": "b99d555d-5aef-4f2a-9ccb-80d2dfb0de78"
      },
      "execution_count": 4,
      "outputs": [
        {
          "output_type": "execute_result",
          "data": {
            "text/plain": [
              "[<llmsherpa.readers.layout_reader.Section at 0x7dca5034ee60>,\n",
              " <llmsherpa.readers.layout_reader.Section at 0x7dca5034eb60>,\n",
              " <llmsherpa.readers.layout_reader.Section at 0x7dca5034e8c0>,\n",
              " <llmsherpa.readers.layout_reader.Section at 0x7dca5034e740>,\n",
              " <llmsherpa.readers.layout_reader.Section at 0x7dca5034e9e0>,\n",
              " <llmsherpa.readers.layout_reader.Section at 0x7dca5034e800>,\n",
              " <llmsherpa.readers.layout_reader.Section at 0x7dca5034e980>,\n",
              " <llmsherpa.readers.layout_reader.Section at 0x7dca5034e8f0>,\n",
              " <llmsherpa.readers.layout_reader.Section at 0x7dca5034e5c0>,\n",
              " <llmsherpa.readers.layout_reader.Section at 0x7dca5034e3b0>,\n",
              " <llmsherpa.readers.layout_reader.Section at 0x7dca5034e260>,\n",
              " <llmsherpa.readers.layout_reader.Section at 0x7dca5034e170>,\n",
              " <llmsherpa.readers.layout_reader.Section at 0x7dca5034e140>,\n",
              " <llmsherpa.readers.layout_reader.Section at 0x7dca5034e110>,\n",
              " <llmsherpa.readers.layout_reader.Section at 0x7dca5034dfc0>,\n",
              " <llmsherpa.readers.layout_reader.Section at 0x7dca5034df90>,\n",
              " <llmsherpa.readers.layout_reader.Section at 0x7dca5034de40>,\n",
              " <llmsherpa.readers.layout_reader.Section at 0x7dca5034de10>,\n",
              " <llmsherpa.readers.layout_reader.Section at 0x7dca5034db10>,\n",
              " <llmsherpa.readers.layout_reader.Section at 0x7dca5034d930>]"
            ]
          },
          "metadata": {},
          "execution_count": 4
        }
      ]
    },
    {
      "cell_type": "code",
      "source": [
        "from IPython.core.display import display, HTML\n",
        "selected_section = None\n",
        "# find a section in the document by title\n",
        "for section in doc.sections():\n",
        "    if 'skill' in section.title.lower() or 'expertise' in section.title.lower():\n",
        "        selected_section = section\n",
        "        break\n",
        "# use include_children=True and recurse=True to fully expand the section.\n",
        "# include_children only returns at one sublevel of children whereas recurse goes through all the descendants\n",
        "HTML(section.to_html(include_children=True, recurse=True))"
      ],
      "metadata": {
        "colab": {
          "base_uri": "https://localhost:8080/",
          "height": 144
        },
        "id": "yOAON0CDj1mC",
        "outputId": "cf0ad5f7-fb77-4afe-8a5a-63b2edba9eda"
      },
      "execution_count": 5,
      "outputs": [
        {
          "output_type": "execute_result",
          "data": {
            "text/plain": [
              "<IPython.core.display.HTML object>"
            ],
            "text/html": [
              "<h1>SKILLS</h1><li>•Machine Learning •Natural Language Processing •Python •Neural Network</li><li>•Statistical Modeling •SQL •Flask</li><li>•PredictiveModeling •Statistics •Data Wrangling •Data Visualization •GIT</li><li>•Prompt Engineering.</li>"
            ]
          },
          "metadata": {},
          "execution_count": 5
        }
      ]
    }
  ]
}
