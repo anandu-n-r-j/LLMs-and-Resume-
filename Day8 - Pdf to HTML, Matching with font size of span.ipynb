{
  "nbformat": 4,
  "nbformat_minor": 0,
  "metadata": {
    "colab": {
      "provenance": []
    },
    "kernelspec": {
      "name": "python3",
      "display_name": "Python 3"
    },
    "language_info": {
      "name": "python"
    }
  },
  "cells": [
    {
      "cell_type": "markdown",
      "source": [
        "Using pdf miner"
      ],
      "metadata": {
        "id": "loICayiQGRFI"
      }
    },
    {
      "cell_type": "code",
      "source": [
        "pip install pdfminer.six"
      ],
      "metadata": {
        "colab": {
          "base_uri": "https://localhost:8080/"
        },
        "id": "9CydTO3ZGU9l",
        "outputId": "ed553def-a784-458a-e534-2e7aef3f8295"
      },
      "execution_count": 1,
      "outputs": [
        {
          "output_type": "stream",
          "name": "stdout",
          "text": [
            "Collecting pdfminer.six\n",
            "  Downloading pdfminer.six-20221105-py3-none-any.whl (5.6 MB)\n",
            "\u001b[?25l     \u001b[90m━━━━━━━━━━━━━━━━━━━━━━━━━━━━━━━━━━━━━━━━\u001b[0m \u001b[32m0.0/5.6 MB\u001b[0m \u001b[31m?\u001b[0m eta \u001b[36m-:--:--\u001b[0m\r\u001b[2K     \u001b[91m╸\u001b[0m\u001b[90m━━━━━━━━━━━━━━━━━━━━━━━━━━━━━━━━━━━━━━━\u001b[0m \u001b[32m0.1/5.6 MB\u001b[0m \u001b[31m2.6 MB/s\u001b[0m eta \u001b[36m0:00:03\u001b[0m\r\u001b[2K     \u001b[91m━━━━━━━━━━━━\u001b[0m\u001b[90m╺\u001b[0m\u001b[90m━━━━━━━━━━━━━━━━━━━━━━━━━━━\u001b[0m \u001b[32m1.7/5.6 MB\u001b[0m \u001b[31m28.4 MB/s\u001b[0m eta \u001b[36m0:00:01\u001b[0m\r\u001b[2K     \u001b[91m━━━━━━━━━━━━━━━━━━━━━━━━━━━━━━━━━━━━━━━\u001b[0m\u001b[91m╸\u001b[0m \u001b[32m5.6/5.6 MB\u001b[0m \u001b[31m54.9 MB/s\u001b[0m eta \u001b[36m0:00:01\u001b[0m\r\u001b[2K     \u001b[90m━━━━━━━━━━━━━━━━━━━━━━━━━━━━━━━━━━━━━━━━\u001b[0m \u001b[32m5.6/5.6 MB\u001b[0m \u001b[31m41.9 MB/s\u001b[0m eta \u001b[36m0:00:00\u001b[0m\n",
            "\u001b[?25hRequirement already satisfied: charset-normalizer>=2.0.0 in /usr/local/lib/python3.10/dist-packages (from pdfminer.six) (3.3.2)\n",
            "Requirement already satisfied: cryptography>=36.0.0 in /usr/local/lib/python3.10/dist-packages (from pdfminer.six) (41.0.5)\n",
            "Requirement already satisfied: cffi>=1.12 in /usr/local/lib/python3.10/dist-packages (from cryptography>=36.0.0->pdfminer.six) (1.16.0)\n",
            "Requirement already satisfied: pycparser in /usr/local/lib/python3.10/dist-packages (from cffi>=1.12->cryptography>=36.0.0->pdfminer.six) (2.21)\n",
            "Installing collected packages: pdfminer.six\n",
            "Successfully installed pdfminer.six-20221105\n"
          ]
        }
      ]
    },
    {
      "cell_type": "code",
      "source": [
        "import pdfminer"
      ],
      "metadata": {
        "id": "Bq8ex6uaJn9H"
      },
      "execution_count": 2,
      "outputs": []
    },
    {
      "cell_type": "code",
      "source": [
        "from pdfminer.pdfinterp import PDFResourceManager, PDFPageInterpreter\n",
        "from pdfminer.converter import HTMLConverter\n",
        "from pdfminer.layout import LAParams\n",
        "from pdfminer.pdfpage import PDFPage\n",
        "from io import BytesIO"
      ],
      "metadata": {
        "id": "kywN1s2iJosK"
      },
      "execution_count": 3,
      "outputs": []
    },
    {
      "cell_type": "code",
      "source": [
        "def converting_pdf_to_html(pdf_file):\n",
        "    # Creating a PDF resource manager\n",
        "    rsrcmgr = PDFResourceManager()\n",
        "    # Creating a buffer to store the HTML content\n",
        "    retstr = BytesIO()\n",
        "    codec = 'utf-8'\n",
        "    # Setting layout analysis parameters\n",
        "    laparams = LAParams(char_margin=10.0, word_margin=5.0)\n",
        "    # Creating an HTMLConverter\n",
        "    device = HTMLConverter(rsrcmgr, retstr, codec=codec, laparams=laparams)\n",
        "    with open(pdf_file, 'rb') as pdf:\n",
        "        pdf_interpreter = PDFPageInterpreter(rsrcmgr, device)\n",
        "        for page in PDFPage.get_pages(pdf):\n",
        "            pdf_interpreter.process_page(page)  # Processing each page of the PDF\n",
        "    device.close()  # Closing the HTMLConverter device\n",
        "    content = retstr.getvalue()  # HTML content from the buffer\n",
        "    retstr.close()  # Closing the buffer\n",
        "\n",
        "    # Returning the HTML content as a string\n",
        "    return content.decode('utf-8')\n"
      ],
      "metadata": {
        "id": "HFERy_4CJvle"
      },
      "execution_count": 5,
      "outputs": []
    },
    {
      "cell_type": "code",
      "source": [
        "pdf_file = '/content/CKMourya_Resume.pdf'"
      ],
      "metadata": {
        "id": "tMdUIHkaL_vl"
      },
      "execution_count": 4,
      "outputs": []
    },
    {
      "cell_type": "code",
      "source": [
        "html_resume = converting_pdf_to_html(pdf_file)"
      ],
      "metadata": {
        "id": "m3S4EOvcMGem"
      },
      "execution_count": 6,
      "outputs": []
    },
    {
      "cell_type": "code",
      "source": [
        "from IPython.display import HTML\n",
        "HTML(html_resume)"
      ],
      "metadata": {
        "colab": {
          "base_uri": "https://localhost:8080/",
          "height": 17
        },
        "id": "BcxNc1mkMJSx",
        "outputId": "ba82cb6f-8310-488d-cde6-f2f8e5ce93f1"
      },
      "execution_count": 7,
      "outputs": [
        {
          "output_type": "execute_result",
          "data": {
            "text/plain": [
              "<IPython.core.display.HTML object>"
            ],
            "text/html": [
              "<html><head>\n",
              "<meta http-equiv=\"Content-Type\" content=\"text/html; charset=utf-8\">\n",
              "</head><body>\n",
              "<span style=\"position:absolute; border: gray 1px solid; left:0px; top:50px; width:612px; height:792px;\"></span>\n",
              "<div style=\"position:absolute; top:50px;\"><a name=\"1\">Page 1</a></div>\n",
              "<div style=\"position:absolute; border: textbox 1px solid; writing-mode:lr-tb; left:111px; top:67px; width:389px; height:39px;\"><span style=\"font-family: Lato-Hairline; font-size:39px\">ChintaKrishna</span><span style=\"font-family: Lato-Light; font-size:39px\">Mourya\n",
              "<br></span></div><div style=\"position:absolute; border: textbox 1px solid; writing-mode:lr-tb; left:142px; top:113px; width:324px; height:10px;\"><span style=\"font-family: Raleway-Medium; font-size:10px\">mouryachinta19@gmail.com|+91-7793981667|+91-9346074972\n",
              "<br></span></div><div style=\"position:absolute; border: textbox 1px solid; writing-mode:lr-tb; left:35px; top:146px; width:151px; height:68px;\"><span style=\"font-family: Lato-Light; font-size:15px\">EDUCATION\n",
              "<br></span><span style=\"font-family: Lato-Bold; font-size:11px\">IITKHARAGPUR\n",
              "<br></span><span style=\"font-family: Raleway-Medium; font-size:10px\">BTechinOceanEngineering\n",
              "<br></span><span style=\"font-family: Raleway-Medium; font-size:9px\">MAY2021|WestBengal\n",
              "<br>CGPA:6.59/10\n",
              "<br></span></div><div style=\"position:absolute; border: textbox 1px solid; writing-mode:lr-tb; left:35px; top:223px; width:134px; height:48px;\"><span style=\"font-family: Lato-Bold; font-size:11px\">BIITJR.COLLEGE\n",
              "<br></span><span style=\"font-family: Raleway-Medium; font-size:10px\">Intermediate-MPC\n",
              "<br></span><span style=\"font-family: Raleway-Medium; font-size:9px\">March2017|AndhraPradesh\n",
              "<br>Percentage:98.2\n",
              "<br></span></div><div style=\"position:absolute; border: textbox 1px solid; writing-mode:lr-tb; left:35px; top:279px; width:151px; height:35px;\"><span style=\"font-family: Lato-Bold; font-size:11px\">BHASHYAMHIGHSCHOOL\n",
              "<br></span><span style=\"font-family: Raleway-Medium; font-size:9px\">April2015|AndhraPradesh\n",
              "<br>GPA:9.8\n",
              "<br></span></div><div style=\"position:absolute; border: textbox 1px solid; writing-mode:lr-tb; left:35px; top:332px; width:175px; height:78px;\"><span style=\"font-family: Lato-Light; font-size:15px\">LINKS\n",
              "<br></span><span style=\"font-family: Lato-Light; font-size:9px\">•</span><span style=\"font-family: Lato-Regular; font-size:9px\">LinkedIn</span><span style=\"font-family: Lato-Light; font-size:9px\">:\n",
              "<br>https://www.linkedin.com/in/chinta-\n",
              "<br>krishna-mourya-949aab178/\n",
              "<br>•</span><span style=\"font-family: Lato-Regular; font-size:9px\">GitHub</span><span style=\"font-family: Lato-Light; font-size:9px\">:\n",
              "<br>https://github.com/ChintaKrishnaMourya\n",
              "<br></span></div><div style=\"position:absolute; border: textbox 1px solid; writing-mode:lr-tb; left:35px; top:419px; width:165px; height:89px;\"><span style=\"font-family: Lato-Light; font-size:15px\">SKILLS\n",
              "<br></span><span style=\"font-family: Lato-Light; font-size:9px\">•MachineLearning•NaturalLanguage\n",
              "<br>Processing•Python•NeuralNetwork\n",
              "<br>•StatisticalModeling•SQL•Flask\n",
              "<br>•PredictiveModeling•Statistics•Data\n",
              "<br>Wrangling•DataVisualization•GIT\n",
              "<br>•PromptEngineering.\n",
              "<br></span></div><div style=\"position:absolute; border: textbox 1px solid; writing-mode:lr-tb; left:35px; top:526px; width:176px; height:66px;\"><span style=\"font-family: Lato-Light; font-size:15px\">CERTIFICATIONS\n",
              "<br></span><span style=\"font-family: Lato-Light; font-size:9px\">Udemy-</span><span style=\"font-family: Lato-Regular; font-size:9px\">MachineLearningA-ZPythonin\n",
              "<br>DataScience</span><span style=\"font-family: Lato-Light; font-size:9px\">(link)\n",
              "<br>iNeuron-</span><span style=\"font-family: Lato-Regular; font-size:9px\">FullStackDataScience\n",
              "<br></span><span style=\"font-family: Lato-Regular; font-size:9px\">Bootcamp</span><span style=\"font-family: Lato-Light; font-size:9px\">(link)\n",
              "<br></span></div><div style=\"position:absolute; border: textbox 1px solid; writing-mode:lr-tb; left:35px; top:610px; width:93px; height:54px;\"><span style=\"font-family: Lato-Light; font-size:15px\">LANGUAGES\n",
              "<br></span><span style=\"font-family: Lato-Light; font-size:9px\">•English(Fluent)\n",
              "<br>•Telugu(Native)\n",
              "<br>•Hindi(Beginner)\n",
              "<br></span></div><div style=\"position:absolute; border: textbox 1px solid; writing-mode:lr-tb; left:35px; top:673px; width:178px; height:149px;\"><span style=\"font-family: Lato-Light; font-size:15px\">EXTRACURRICULAR\n",
              "<br>ACTIVITIES\n",
              "<br></span><span style=\"font-family: Lato-Light; font-size:9px\">•Stood</span><span style=\"font-family: Lato-Regular; font-size:9px\">1st</span><span style=\"font-family: Lato-Light; font-size:9px\">inQuizconductedbySBI\n",
              "<br>YONOinKolkatain2018.•</span><span style=\"font-family: Lato-Regular; font-size:9px\">Volunteered\n",
              "<br></span><span style=\"font-family: Lato-Light; font-size:9px\">inmultiplesocialserviceprograms\n",
              "<br>organizedby”AACHARANACharitable\n",
              "<br>trust”.•</span><span style=\"font-family: Lato-Regular; font-size:9px\">Organized</span><span style=\"font-family: Lato-Light; font-size:9px\">andconducteda\n",
              "<br></span><span style=\"font-family: Lato-Regular; font-size:9px\">town-level</span><span style=\"font-family: Lato-Light; font-size:9px\">competitiveexamfor</span><span style=\"font-family: Lato-Regular; font-size:9px\">200</span><span style=\"font-family: Lato-Light; font-size:9px\">10th\n",
              "<br>classstudents.•Participatedinvarious\n",
              "<br>activitiesasan</span><span style=\"font-family: Lato-Regular; font-size:9px\">NSScandidate</span><span style=\"font-family: Lato-Light; font-size:9px\">during\n",
              "<br></span><span style=\"font-family: Lato-Light; font-size:9px\">college.\n",
              "<br></span></div><div style=\"position:absolute; border: textbox 1px solid; writing-mode:lr-tb; left:219px; top:146px; width:221px; height:44px;\"><span style=\"font-family: Lato-Light; font-size:15px\">EXPERIENCE\n",
              "<br></span><span style=\"font-family: Lato-Bold; font-size:11px\">INEURON.AI</span><span style=\"font-family: Raleway-Medium; font-size:10px\">|DataScienceIntern(link)\n",
              "<br></span><span style=\"font-family: Raleway-Medium; font-size:9px\">Jan2023–Apr2023\n",
              "<br></span></div><div style=\"position:absolute; border: textbox 1px solid; writing-mode:lr-tb; left:233px; top:191px; width:343px; height:9px;\"><span style=\"font-family: Lato-Light; font-size:9px\">•Developedend-to-end</span><span style=\"font-family: Lato-Regular; font-size:9px\">creditcarddefaultpredictionmodel</span><span style=\"font-family: Lato-Light; font-size:9px\">(projectlink)using\n",
              "<br></span></div><div style=\"position:absolute; border: textbox 1px solid; writing-mode:lr-tb; left:244px; top:203px; width:89px; height:9px;\"><span style=\"font-family: Lato-Light; font-size:9px\">PythonandMLtools.\n",
              "<br></span></div><div style=\"position:absolute; border: textbox 1px solid; writing-mode:lr-tb; left:233px; top:216px; width:316px; height:9px;\"><span style=\"font-family: Lato-Light; font-size:9px\">•ConductedEDA,datapreprocessing,andmodelselectionwithoptimized\n",
              "<br></span></div><div style=\"position:absolute; border: textbox 1px solid; writing-mode:lr-tb; left:244px; top:228px; width:324px; height:33px;\"><span style=\"font-family: Lato-Light; font-size:9px\">Pythoncodeandlogging.Outof</span><span style=\"font-family: Lato-Regular; font-size:9px\">”SVM”,”LogisticRegression”,”DecisionTree”,\n",
              "<br>”RandomForest”,”NaiveBaye”</span><span style=\"font-family: Lato-Light; font-size:9px\">classifiers</span><span style=\"font-family: Lato-Regular; font-size:9px\">”RandomForest”</span><span style=\"font-family: Lato-Light; font-size:9px\">performedbetter\n",
              "<br>with</span><span style=\"font-family: Lato-Regular; font-size:9px\">F1score0.86</span><span style=\"font-family: Lato-Light; font-size:9px\">.\n",
              "<br></span></div><div style=\"position:absolute; border: textbox 1px solid; writing-mode:lr-tb; left:233px; top:265px; width:338px; height:9px;\"><span style=\"font-family: Lato-Light; font-size:9px\">•Designedprojectarchitectureandbuilt</span><span style=\"font-family: Lato-Regular; font-size:9px\">Flaskwebapp</span><span style=\"font-family: Lato-Light; font-size:9px\">,deployedon</span><span style=\"font-family: Lato-Regular; font-size:9px\">AWSEC2\n",
              "<br></span></div><div style=\"position:absolute; border: textbox 1px solid; writing-mode:lr-tb; left:244px; top:277px; width:287px; height:21px;\"><span style=\"font-family: Lato-Light; font-size:9px\">foruseraccess.GainedexperienceinvariousMLtechniques,Python\n",
              "<br>programming,deployment.\n",
              "<br></span></div><div style=\"position:absolute; border: textbox 1px solid; writing-mode:lr-tb; left:219px; top:310px; width:207px; height:23px;\"><span style=\"font-family: Lato-Bold; font-size:11px\">BLUEAI-LABS</span><span style=\"font-family: Raleway-Medium; font-size:10px\">|FreelanceAIEngineer\n",
              "<br></span><span style=\"font-family: Raleway-Medium; font-size:9px\">Apr2023-May2023\n",
              "<br></span></div><div style=\"position:absolute; border: textbox 1px solid; writing-mode:lr-tb; left:233px; top:346px; width:314px; height:9px;\"><span style=\"font-family: Lato-Light; font-size:9px\">•Builta</span><span style=\"font-family: Lato-Regular; font-size:9px\">resumeparser</span><span style=\"font-family: Lato-Light; font-size:9px\">using</span><span style=\"font-family: Lato-Regular; font-size:9px\">pyresparser</span><span style=\"font-family: Lato-Light; font-size:9px\">toextractessentialdetailsfrom\n",
              "<br></span></div><div style=\"position:absolute; border: textbox 1px solid; writing-mode:lr-tb; left:244px; top:358px; width:215px; height:9px;\"><span style=\"font-family: Lato-Light; font-size:9px\">multipleresumes,generatingaCSVfileforanalysis.\n",
              "<br></span></div><div style=\"position:absolute; border: textbox 1px solid; writing-mode:lr-tb; left:233px; top:371px; width:307px; height:9px;\"><span style=\"font-family: Lato-Light; font-size:9px\">•Developedfunctionsutilizingthe</span><span style=\"font-family: Lato-Regular; font-size:9px\">OpenAIAPI</span><span style=\"font-family: Lato-Light; font-size:9px\">,</span><span style=\"font-family: Lato-Regular; font-size:9px\">promptengineering</span><span style=\"font-family: Lato-Light; font-size:9px\">for\n",
              "<br></span></div><div style=\"position:absolute; border: textbox 1px solid; writing-mode:lr-tb; left:244px; top:383px; width:319px; height:33px;\"><span style=\"font-family: Lato-Light; font-size:9px\">scorecardgenerationbasedonjobdescriptionsandcandidatequalifications,\n",
              "<br></span><span style=\"font-family: Lato-Regular; font-size:9px\">evaluatingresumes</span><span style=\"font-family: Lato-Light; font-size:9px\">,</span><span style=\"font-family: Lato-Regular; font-size:9px\">generatingsummaries</span><span style=\"font-family: Lato-Light; font-size:9px\">providingcodingassessment\n",
              "<br>questionsand</span><span style=\"font-family: Lato-Regular; font-size:9px\">interviewquestiongeneration</span><span style=\"font-family: Lato-Light; font-size:9px\">.\n",
              "<br></span></div><div style=\"position:absolute; border: textbox 1px solid; writing-mode:lr-tb; left:233px; top:420px; width:339px; height:9px;\"><span style=\"font-family: Lato-Light; font-size:9px\">•Gainedexperienceunderstandingofdifferentmodelslike</span><span style=\"font-family: Lato-Regular; font-size:9px\">ada</span><span style=\"font-family: Lato-Light; font-size:9px\">,</span><span style=\"font-family: Lato-Regular; font-size:9px\">babbage</span><span style=\"font-family: Lato-Light; font-size:9px\">,</span><span style=\"font-family: Lato-Regular; font-size:9px\">curie</span><span style=\"font-family: Lato-Light; font-size:9px\">,\n",
              "<br></span></div><div style=\"position:absolute; border: textbox 1px solid; writing-mode:lr-tb; left:244px; top:431px; width:238px; height:9px;\"><span style=\"font-family: Lato-Regular; font-size:9px\">davinci</span><span style=\"font-family: Lato-Light; font-size:9px\">,andconceptsof</span><span style=\"font-family: Lato-Regular; font-size:9px\">LargeLanguageModels</span><span style=\"font-family: Lato-Light; font-size:9px\">(LLMs).\n",
              "<br></span></div><div style=\"position:absolute; border: textbox 1px solid; writing-mode:lr-tb; left:219px; top:453px; width:313px; height:32px;\"><span style=\"font-family: Lato-Light; font-size:15px\">PROJECTS\n",
              "<br></span><span style=\"font-family: Lato-Bold; font-size:11px\">FLATRESALEPRICEPREDICTION</span><span style=\"font-family: Lato-Light; font-size:11px\">(link)</span><span style=\"font-family: Raleway-Medium; font-size:9px\">Nov2022–Nov2022\n",
              "<br></span></div><div style=\"position:absolute; border: textbox 1px solid; writing-mode:lr-tb; left:233px; top:497px; width:335px; height:21px;\"><span style=\"font-family: Lato-Light; font-size:9px\">•ConductedEDA,performedfeatureengineeringstatisticalanalysis,including\n",
              "<br></span><span style=\"font-family: Lato-Regular; font-size:9px\">chi-square</span><span style=\"font-family: Lato-Light; font-size:9px\">tests,utilizedheatmapstoidentifycorrelationsamongfeatures.\n",
              "<br></span></div><div style=\"position:absolute; border: textbox 1px solid; writing-mode:lr-tb; left:233px; top:522px; width:303px; height:9px;\"><span style=\"font-family: Lato-Light; font-size:9px\">•Trainedfourregressionmodels-</span><span style=\"font-family: Lato-Regular; font-size:9px\">RandomForestRegressor,XGBoost\n",
              "<br></span></div><div style=\"position:absolute; border: textbox 1px solid; writing-mode:lr-tb; left:244px; top:533px; width:332px; height:21px;\"><span style=\"font-family: Lato-Regular; font-size:9px\">Regressor,DecisionTreeRegressor</span><span style=\"font-family: Lato-Light; font-size:9px\">and</span><span style=\"font-family: Lato-Regular; font-size:9px\">NeuralNetwork</span><span style=\"font-family: Lato-Light; font-size:9px\">-andcomparedtheir\n",
              "<br>performance.\n",
              "<br></span></div><div style=\"position:absolute; border: textbox 1px solid; writing-mode:lr-tb; left:233px; top:558px; width:336px; height:33px;\"><span style=\"font-family: Lato-Light; font-size:9px\">•Identifiedthatthe</span><span style=\"font-family: Lato-Regular; font-size:9px\">RandomForestRegressor</span><span style=\"font-family: Lato-Light; font-size:9px\">modeloutperformedtheothers\n",
              "<br>with</span><span style=\"font-family: Lato-Regular; font-size:9px\">R2score0.96</span><span style=\"font-family: Lato-Light; font-size:9px\">andusedittopredictflatresaleprices.</span><span style=\"font-family: Lato-Regular; font-size:9px\">XGBoost</span><span style=\"font-family: Lato-Light; font-size:9px\">gave\n",
              "<br></span><span style=\"font-family: Lato-Regular; font-size:9px\">0.951</span><span style=\"font-family: Lato-Light; font-size:9px\">,</span><span style=\"font-family: Lato-Regular; font-size:9px\">DecisionTree</span><span style=\"font-family: Lato-Light; font-size:9px\">gave</span><span style=\"font-family: Lato-Regular; font-size:9px\">0.94</span><span style=\"font-family: Lato-Light; font-size:9px\">and</span><span style=\"font-family: Lato-Regular; font-size:9px\">NeuralNetwork</span><span style=\"font-family: Lato-Light; font-size:9px\">with</span><span style=\"font-family: Lato-Regular; font-size:9px\">relativeerror0.04</span><span style=\"font-family: Lato-Light; font-size:9px\">.\n",
              "<br></span></div><div style=\"position:absolute; border: textbox 1px solid; writing-mode:lr-tb; left:219px; top:603px; width:356px; height:23px;\"><span style=\"font-family: Lato-Bold; font-size:11px\">CRACKDEPTHPREDICTIONOFABAQUSMODEL</span><span style=\"font-family: Lato-Light; font-size:11px\">(link)</span><span style=\"font-family: Raleway-Medium; font-size:9px\">Aug2020–\n",
              "<br>Dec2020\n",
              "<br></span></div><div style=\"position:absolute; border: textbox 1px solid; writing-mode:lr-tb; left:233px; top:638px; width:343px; height:45px;\"><span style=\"font-family: Lato-Light; font-size:9px\">•Analyzedcracksofvaryingdepthsin</span><span style=\"font-family: Lato-Regular; font-size:9px\">Abaqussoftware</span><span style=\"font-family: Lato-Light; font-size:9px\">andextracted\n",
              "<br>correspondingstrainvaluesmergedmultipledatasetstocreatea\n",
              "<br>comprehensivedatasetwithcrackdepthasthetargetvariableandstrainvalues\n",
              "<br>fromfoursensorsastheindependentvariables.\n",
              "<br></span></div><div style=\"position:absolute; border: textbox 1px solid; writing-mode:lr-tb; left:233px; top:687px; width:316px; height:9px;\"><span style=\"font-family: Lato-Light; font-size:9px\">•Trained</span><span style=\"font-family: Lato-Regular; font-size:9px\">RandomForestRegressionandLinearRegression</span><span style=\"font-family: Lato-Light; font-size:9px\">algorithmsto\n",
              "<br></span></div><div style=\"position:absolute; border: textbox 1px solid; writing-mode:lr-tb; left:244px; top:699px; width:320px; height:21px;\"><span style=\"font-family: Lato-Light; font-size:9px\">predictcrackdepthandobtainedanimpressive</span><span style=\"font-family: Lato-Regular; font-size:9px\">RMSEof0.0007</span><span style=\"font-family: Lato-Light; font-size:9px\">by</span><span style=\"font-family: Lato-Regular; font-size:9px\">Random\n",
              "<br></span><span style=\"font-family: Lato-Regular; font-size:9px\">ForestRegressor</span><span style=\"font-family: Lato-Light; font-size:9px\">.\n",
              "<br></span></div><div style=\"position:absolute; border: textbox 1px solid; writing-mode:lr-tb; left:219px; top:731px; width:330px; height:11px;\"><span style=\"font-family: Lato-Bold; font-size:11px\">MALLCUSTOMERSSEGMENTATION</span><span style=\"font-family: Lato-Light; font-size:11px\">(link)</span><span style=\"font-family: Raleway-Medium; font-size:9px\">Dec2022–Dec2022\n",
              "<br></span></div><div style=\"position:absolute; border: textbox 1px solid; writing-mode:lr-tb; left:233px; top:755px; width:336px; height:33px;\"><span style=\"font-family: Lato-Light; font-size:9px\">•ConductedEDAPerformedcustomersegmentationusing</span><span style=\"font-family: Lato-Regular; font-size:9px\">KMeansclustering\n",
              "<br></span><span style=\"font-family: Lato-Light; font-size:9px\">algorithm.Used</span><span style=\"font-family: Lato-Regular; font-size:9px\">WCSS</span><span style=\"font-family: Lato-Light; font-size:9px\">,</span><span style=\"font-family: Lato-Regular; font-size:9px\">kneedlibrary</span><span style=\"font-family: Lato-Light; font-size:9px\">,</span><span style=\"font-family: Lato-Regular; font-size:9px\">GapStatistic</span><span style=\"font-family: Lato-Light; font-size:9px\">,</span><span style=\"font-family: Lato-Regular; font-size:9px\">DBSCAN</span><span style=\"font-family: Lato-Light; font-size:9px\">todetermine\n",
              "<br>theoptimalnumberofclusters.\n",
              "<br></span></div><div style=\"position:absolute; border: textbox 1px solid; writing-mode:lr-tb; left:233px; top:792px; width:343px; height:9px;\"><span style=\"font-family: Lato-Light; font-size:9px\">•Plottedtheclustersusing</span><span style=\"font-family: Lato-Regular; font-size:9px\">AnnualincomevsSpendingscore</span><span style=\"font-family: Lato-Light; font-size:9px\">-</span><span style=\"font-family: Lato-Regular; font-size:9px\">silhouettescore-\n",
              "<br></span></div><div style=\"position:absolute; border: textbox 1px solid; writing-mode:lr-tb; left:244px; top:803px; width:286px; height:9px;\"><span style=\"font-family: Lato-Regular; font-size:9px\">0.55</span><span style=\"font-family: Lato-Light; font-size:9px\">and</span><span style=\"font-family: Lato-Regular; font-size:9px\">IncomevsAgevsSpendingscore</span><span style=\"font-family: Lato-Light; font-size:9px\">-</span><span style=\"font-family: Lato-Regular; font-size:9px\">silhouettescore-0.45</span><span style=\"font-family: Lato-Light; font-size:9px\">.\n",
              "<br></span></div><span style=\"position:absolute; border: black 1px solid; left:35px; top:46px; width:541px; height:0px;\"></span>\n",
              "<span style=\"position:absolute; border: black 1px solid; left:0px; top:133px; width:612px; height:0px;\"></span>\n",
              "<div style=\"position:absolute; top:0px;\">Page: <a href=\"#1\">1</a></div>\n",
              "</body></html>\n"
            ]
          },
          "metadata": {},
          "execution_count": 7
        }
      ]
    },
    {
      "cell_type": "code",
      "source": [
        "html_resume"
      ],
      "metadata": {
        "id": "eHRRfkJlMUUw",
        "colab": {
          "base_uri": "https://localhost:8080/",
          "height": 140
        },
        "outputId": "0dc60063-2e31-4c68-997e-4a9ecb020afb"
      },
      "execution_count": 8,
      "outputs": [
        {
          "output_type": "execute_result",
          "data": {
            "text/plain": [
              "'<html><head>\\n<meta http-equiv=\"Content-Type\" content=\"text/html; charset=utf-8\">\\n</head><body>\\n<span style=\"position:absolute; border: gray 1px solid; left:0px; top:50px; width:612px; height:792px;\"></span>\\n<div style=\"position:absolute; top:50px;\"><a name=\"1\">Page 1</a></div>\\n<div style=\"position:absolute; border: textbox 1px solid; writing-mode:lr-tb; left:111px; top:67px; width:389px; height:39px;\"><span style=\"font-family: Lato-Hairline; font-size:39px\">ChintaKrishna</span><span style=\"font-family: Lato-Light; font-size:39px\">Mourya\\n<br></span></div><div style=\"position:absolute; border: textbox 1px solid; writing-mode:lr-tb; left:142px; top:113px; width:324px; height:10px;\"><span style=\"font-family: Raleway-Medium; font-size:10px\">mouryachinta19@gmail.com|+91-7793981667|+91-9346074972\\n<br></span></div><div style=\"position:absolute; border: textbox 1px solid; writing-mode:lr-tb; left:35px; top:146px; width:151px; height:68px;\"><span style=\"font-family: Lato-Light; font-size:15px\">EDUCATION\\n<br></span><span style=\"font-family: Lato-Bold; font-size:11px\">IITKHARAGPUR\\n<br></span><span style=\"font-family: Raleway-Medium; font-size:10px\">BTechinOceanEngineering\\n<br></span><span style=\"font-family: Raleway-Medium; font-size:9px\">MAY2021|WestBengal\\n<br>CGPA:6.59/10\\n<br></span></div><div style=\"position:absolute; border: textbox 1px solid; writing-mode:lr-tb; left:35px; top:223px; width:134px; height:48px;\"><span style=\"font-family: Lato-Bold; font-size:11px\">BIITJR.COLLEGE\\n<br></span><span style=\"font-family: Raleway-Medium; font-size:10px\">Intermediate-MPC\\n<br></span><span style=\"font-family: Raleway-Medium; font-size:9px\">March2017|AndhraPradesh\\n<br>Percentage:98.2\\n<br></span></div><div style=\"position:absolute; border: textbox 1px solid; writing-mode:lr-tb; left:35px; top:279px; width:151px; height:35px;\"><span style=\"font-family: Lato-Bold; font-size:11px\">BHASHYAMHIGHSCHOOL\\n<br></span><span style=\"font-family: Raleway-Medium; font-size:9px\">April2015|AndhraPradesh\\n<br>GPA:9.8\\n<br></span></div><div style=\"position:absolute; border: textbox 1px solid; writing-mode:lr-tb; left:35px; top:332px; width:175px; height:78px;\"><span style=\"font-family: Lato-Light; font-size:15px\">LINKS\\n<br></span><span style=\"font-family: Lato-Light; font-size:9px\">•</span><span style=\"font-family: Lato-Regular; font-size:9px\">LinkedIn</span><span style=\"font-family: Lato-Light; font-size:9px\">:\\n<br>https://www.linkedin.com/in/chinta-\\n<br>krishna-mourya-949aab178/\\n<br>•</span><span style=\"font-family: Lato-Regular; font-size:9px\">GitHub</span><span style=\"font-family: Lato-Light; font-size:9px\">:\\n<br>https://github.com/ChintaKrishnaMourya\\n<br></span></div><div style=\"position:absolute; border: textbox 1px solid; writing-mode:lr-tb; left:35px; top:419px; width:165px; height:89px;\"><span style=\"font-family: Lato-Light; font-size:15px\">SKILLS\\n<br></span><span style=\"font-family: Lato-Light; font-size:9px\">•MachineLearning•NaturalLanguage\\n<br>Processing•Python•NeuralNetwork\\n<br>•StatisticalModeling•SQL•Flask\\n<br>•PredictiveModeling•Statistics•Data\\n<br>Wrangling•DataVisualization•GIT\\n<br>•PromptEngineering.\\n<br></span></div><div style=\"position:absolute; border: textbox 1px solid; writing-mode:lr-tb; left:35px; top:526px; width:176px; height:66px;\"><span style=\"font-family: Lato-Light; font-size:15px\">CERTIFICATIONS\\n<br></span><span style=\"font-family: Lato-Light; font-size:9px\">Udemy-</span><span style=\"font-family: Lato-Regular; font-size:9px\">MachineLearningA-ZPythonin\\n<br>DataScience</span><span style=\"font-family: Lato-Light; font-size:9px\">(link)\\n<br>iNeuron-</span><span style=\"font-family: Lato-Regular; font-size:9px\">FullStackDataScience\\n<br></span><span style=\"font-family: Lato-Regular; font-size:9px\">Bootcamp</span><span style=\"font-family: Lato-Light; font-size:9px\">(link)\\n<br></span></div><div style=\"position:absolute; border: textbox 1px solid; writing-mode:lr-tb; left:35px; top:610px; width:93px; height:54px;\"><span style=\"font-family: Lato-Light; font-size:15px\">LANGUAGES\\n<br></span><span style=\"font-family: Lato-Light; font-size:9px\">•English(Fluent)\\n<br>•Telugu(Native)\\n<br>•Hindi(Beginner)\\n<br></span></div><div style=\"position:absolute; border: textbox 1px solid; writing-mode:lr-tb; left:35px; top:673px; width:178px; height:149px;\"><span style=\"font-family: Lato-Light; font-size:15px\">EXTRACURRICULAR\\n<br>ACTIVITIES\\n<br></span><span style=\"font-family: Lato-Light; font-size:9px\">•Stood</span><span style=\"font-family: Lato-Regular; font-size:9px\">1st</span><span style=\"font-family: Lato-Light; font-size:9px\">inQuizconductedbySBI\\n<br>YONOinKolkatain2018.•</span><span style=\"font-family: Lato-Regular; font-size:9px\">Volunteered\\n<br></span><span style=\"font-family: Lato-Light; font-size:9px\">inmultiplesocialserviceprograms\\n<br>organizedby”AACHARANACharitable\\n<br>trust”.•</span><span style=\"font-family: Lato-Regular; font-size:9px\">Organized</span><span style=\"font-family: Lato-Light; font-size:9px\">andconducteda\\n<br></span><span style=\"font-family: Lato-Regular; font-size:9px\">town-level</span><span style=\"font-family: Lato-Light; font-size:9px\">competitiveexamfor</span><span style=\"font-family: Lato-Regular; font-size:9px\">200</span><span style=\"font-family: Lato-Light; font-size:9px\">10th\\n<br>classstudents.•Participatedinvarious\\n<br>activitiesasan</span><span style=\"font-family: Lato-Regular; font-size:9px\">NSScandidate</span><span style=\"font-family: Lato-Light; font-size:9px\">during\\n<br></span><span style=\"font-family: Lato-Light; font-size:9px\">college.\\n<br></span></div><div style=\"position:absolute; border: textbox 1px solid; writing-mode:lr-tb; left:219px; top:146px; width:221px; height:44px;\"><span style=\"font-family: Lato-Light; font-size:15px\">EXPERIENCE\\n<br></span><span style=\"font-family: Lato-Bold; font-size:11px\">INEURON.AI</span><span style=\"font-family: Raleway-Medium; font-size:10px\">|DataScienceIntern(link)\\n<br></span><span style=\"font-family: Raleway-Medium; font-size:9px\">Jan2023–Apr2023\\n<br></span></div><div style=\"position:absolute; border: textbox 1px solid; writing-mode:lr-tb; left:233px; top:191px; width:343px; height:9px;\"><span style=\"font-family: Lato-Light; font-size:9px\">•Developedend-to-end</span><span style=\"font-family: Lato-Regular; font-size:9px\">creditcarddefaultpredictionmodel</span><span style=\"font-family: Lato-Light; font-size:9px\">(projectlink)using\\n<br></span></div><div style=\"position:absolute; border: textbox 1px solid; writing-mode:lr-tb; left:244px; top:203px; width:89px; height:9px;\"><span style=\"font-family: Lato-Light; font-size:9px\">PythonandMLtools.\\n<br></span></div><div style=\"position:absolute; border: textbox 1px solid; writing-mode:lr-tb; left:233px; top:216px; width:316px; height:9px;\"><span style=\"font-family: Lato-Light; font-size:9px\">•ConductedEDA,datapreprocessing,andmodelselectionwithoptimized\\n<br></span></div><div style=\"position:absolute; border: textbox 1px solid; writing-mode:lr-tb; left:244px; top:228px; width:324px; height:33px;\"><span style=\"font-family: Lato-Light; font-size:9px\">Pythoncodeandlogging.Outof</span><span style=\"font-family: Lato-Regular; font-size:9px\">”SVM”,”LogisticRegression”,”DecisionTree”,\\n<br>”RandomForest”,”NaiveBaye”</span><span style=\"font-family: Lato-Light; font-size:9px\">classifiers</span><span style=\"font-family: Lato-Regular; font-size:9px\">”RandomForest”</span><span style=\"font-family: Lato-Light; font-size:9px\">performedbetter\\n<br>with</span><span style=\"font-family: Lato-Regular; font-size:9px\">F1score0.86</span><span style=\"font-family: Lato-Light; font-size:9px\">.\\n<br></span></div><div style=\"position:absolute; border: textbox 1px solid; writing-mode:lr-tb; left:233px; top:265px; width:338px; height:9px;\"><span style=\"font-family: Lato-Light; font-size:9px\">•Designedprojectarchitectureandbuilt</span><span style=\"font-family: Lato-Regular; font-size:9px\">Flaskwebapp</span><span style=\"font-family: Lato-Light; font-size:9px\">,deployedon</span><span style=\"font-family: Lato-Regular; font-size:9px\">AWSEC2\\n<br></span></div><div style=\"position:absolute; border: textbox 1px solid; writing-mode:lr-tb; left:244px; top:277px; width:287px; height:21px;\"><span style=\"font-family: Lato-Light; font-size:9px\">foruseraccess.GainedexperienceinvariousMLtechniques,Python\\n<br>programming,deployment.\\n<br></span></div><div style=\"position:absolute; border: textbox 1px solid; writing-mode:lr-tb; left:219px; top:310px; width:207px; height:23px;\"><span style=\"font-family: Lato-Bold; font-size:11px\">BLUEAI-LABS</span><span style=\"font-family: Raleway-Medium; font-size:10px\">|FreelanceAIEngineer\\n<br></span><span style=\"font-family: Raleway-Medium; font-size:9px\">Apr2023-May2023\\n<br></span></div><div style=\"position:absolute; border: textbox 1px solid; writing-mode:lr-tb; left:233px; top:346px; width:314px; height:9px;\"><span style=\"font-family: Lato-Light; font-size:9px\">•Builta</span><span style=\"font-family: Lato-Regular; font-size:9px\">resumeparser</span><span style=\"font-family: Lato-Light; font-size:9px\">using</span><span style=\"font-family: Lato-Regular; font-size:9px\">pyresparser</span><span style=\"font-family: Lato-Light; font-size:9px\">toextractessentialdetailsfrom\\n<br></span></div><div style=\"position:absolute; border: textbox 1px solid; writing-mode:lr-tb; left:244px; top:358px; width:215px; height:9px;\"><span style=\"font-family: Lato-Light; font-size:9px\">multipleresumes,generatingaCSVfileforanalysis.\\n<br></span></div><div style=\"position:absolute; border: textbox 1px solid; writing-mode:lr-tb; left:233px; top:371px; width:307px; height:9px;\"><span style=\"font-family: Lato-Light; font-size:9px\">•Developedfunctionsutilizingthe</span><span style=\"font-family: Lato-Regular; font-size:9px\">OpenAIAPI</span><span style=\"font-family: Lato-Light; font-size:9px\">,</span><span style=\"font-family: Lato-Regular; font-size:9px\">promptengineering</span><span style=\"font-family: Lato-Light; font-size:9px\">for\\n<br></span></div><div style=\"position:absolute; border: textbox 1px solid; writing-mode:lr-tb; left:244px; top:383px; width:319px; height:33px;\"><span style=\"font-family: Lato-Light; font-size:9px\">scorecardgenerationbasedonjobdescriptionsandcandidatequalifications,\\n<br></span><span style=\"font-family: Lato-Regular; font-size:9px\">evaluatingresumes</span><span style=\"font-family: Lato-Light; font-size:9px\">,</span><span style=\"font-family: Lato-Regular; font-size:9px\">generatingsummaries</span><span style=\"font-family: Lato-Light; font-size:9px\">providingcodingassessment\\n<br>questionsand</span><span style=\"font-family: Lato-Regular; font-size:9px\">interviewquestiongeneration</span><span style=\"font-family: Lato-Light; font-size:9px\">.\\n<br></span></div><div style=\"position:absolute; border: textbox 1px solid; writing-mode:lr-tb; left:233px; top:420px; width:339px; height:9px;\"><span style=\"font-family: Lato-Light; font-size:9px\">•Gainedexperienceunderstandingofdifferentmodelslike</span><span style=\"font-family: Lato-Regular; font-size:9px\">ada</span><span style=\"font-family: Lato-Light; font-size:9px\">,</span><span style=\"font-family: Lato-Regular; font-size:9px\">babbage</span><span style=\"font-family: Lato-Light; font-size:9px\">,</span><span style=\"font-family: Lato-Regular; font-size:9px\">curie</span><span style=\"font-family: Lato-Light; font-size:9px\">,\\n<br></span></div><div style=\"position:absolute; border: textbox 1px solid; writing-mode:lr-tb; left:244px; top:431px; width:238px; height:9px;\"><span style=\"font-family: Lato-Regular; font-size:9px\">davinci</span><span style=\"font-family: Lato-Light; font-size:9px\">,andconceptsof</span><span style=\"font-family: Lato-Regular; font-size:9px\">LargeLanguageModels</span><span style=\"font-family: Lato-Light; font-size:9px\">(LLMs).\\n<br></span></div><div style=\"position:absolute; border: textbox 1px solid; writing-mode:lr-tb; left:219px; top:453px; width:313px; height:32px;\"><span style=\"font-family: Lato-Light; font-size:15px\">PROJECTS\\n<br></span><span style=\"font-family: Lato-Bold; font-size:11px\">FLATRESALEPRICEPREDICTION</span><span style=\"font-family: Lato-Light; font-size:11px\">(link)</span><span style=\"font-family: Raleway-Medium; font-size:9px\">Nov2022–Nov2022\\n<br></span></div><div style=\"position:absolute; border: textbox 1px solid; writing-mode:lr-tb; left:233px; top:497px; width:335px; height:21px;\"><span style=\"font-family: Lato-Light; font-size:9px\">•ConductedEDA,performedfeatureengineeringstatisticalanalysis,including\\n<br></span><span style=\"font-family: Lato-Regular; font-size:9px\">chi-square</span><span style=\"font-family: Lato-Light; font-size:9px\">tests,utilizedheatmapstoidentifycorrelationsamongfeatures.\\n<br></span></div><div style=\"position:absolute; border: textbox 1px solid; writing-mode:lr-tb; left:233px; top:522px; width:303px; height:9px;\"><span style=\"font-family: Lato-Light; font-size:9px\">•Trainedfourregressionmodels-</span><span style=\"font-family: Lato-Regular; font-size:9px\">RandomForestRegressor,XGBoost\\n<br></span></div><div style=\"position:absolute; border: textbox 1px solid; writing-mode:lr-tb; left:244px; top:533px; width:332px; height:21px;\"><span style=\"font-family: Lato-Regular; font-size:9px\">Regressor,DecisionTreeRegressor</span><span style=\"font-family: Lato-Light; font-size:9px\">and</span><span style=\"font-family: Lato-Regular; font-size:9px\">NeuralNetwork</span><span style=\"font-family: Lato-Light; font-size:9px\">-andcomparedtheir\\n<br>performance.\\n<br></span></div><div style=\"position:absolute; border: textbox 1px solid; writing-mode:lr-tb; left:233px; top:558px; width:336px; height:33px;\"><span style=\"font-family: Lato-Light; font-size:9px\">•Identifiedthatthe</span><span style=\"font-family: Lato-Regular; font-size:9px\">RandomForestRegressor</span><span style=\"font-family: Lato-Light; font-size:9px\">modeloutperformedtheothers\\n<br>with</span><span style=\"font-family: Lato-Regular; font-size:9px\">R2score0.96</span><span style=\"font-family: Lato-Light; font-size:9px\">andusedittopredictflatresaleprices.</span><span style=\"font-family: Lato-Regular; font-size:9px\">XGBoost</span><span style=\"font-family: Lato-Light; font-size:9px\">gave\\n<br></span><span style=\"font-family: Lato-Regular; font-size:9px\">0.951</span><span style=\"font-family: Lato-Light; font-size:9px\">,</span><span style=\"font-family: Lato-Regular; font-size:9px\">DecisionTree</span><span style=\"font-family: Lato-Light; font-size:9px\">gave</span><span style=\"font-family: Lato-Regular; font-size:9px\">0.94</span><span style=\"font-family: Lato-Light; font-size:9px\">and</span><span style=\"font-family: Lato-Regular; font-size:9px\">NeuralNetwork</span><span style=\"font-family: Lato-Light; font-size:9px\">with</span><span style=\"font-family: Lato-Regular; font-size:9px\">relativeerror0.04</span><span style=\"font-family: Lato-Light; font-size:9px\">.\\n<br></span></div><div style=\"position:absolute; border: textbox 1px solid; writing-mode:lr-tb; left:219px; top:603px; width:356px; height:23px;\"><span style=\"font-family: Lato-Bold; font-size:11px\">CRACKDEPTHPREDICTIONOFABAQUSMODEL</span><span style=\"font-family: Lato-Light; font-size:11px\">(link)</span><span style=\"font-family: Raleway-Medium; font-size:9px\">Aug2020–\\n<br>Dec2020\\n<br></span></div><div style=\"position:absolute; border: textbox 1px solid; writing-mode:lr-tb; left:233px; top:638px; width:343px; height:45px;\"><span style=\"font-family: Lato-Light; font-size:9px\">•Analyzedcracksofvaryingdepthsin</span><span style=\"font-family: Lato-Regular; font-size:9px\">Abaqussoftware</span><span style=\"font-family: Lato-Light; font-size:9px\">andextracted\\n<br>correspondingstrainvaluesmergedmultipledatasetstocreatea\\n<br>comprehensivedatasetwithcrackdepthasthetargetvariableandstrainvalues\\n<br>fromfoursensorsastheindependentvariables.\\n<br></span></div><div style=\"position:absolute; border: textbox 1px solid; writing-mode:lr-tb; left:233px; top:687px; width:316px; height:9px;\"><span style=\"font-family: Lato-Light; font-size:9px\">•Trained</span><span style=\"font-family: Lato-Regular; font-size:9px\">RandomForestRegressionandLinearRegression</span><span style=\"font-family: Lato-Light; font-size:9px\">algorithmsto\\n<br></span></div><div style=\"position:absolute; border: textbox 1px solid; writing-mode:lr-tb; left:244px; top:699px; width:320px; height:21px;\"><span style=\"font-family: Lato-Light; font-size:9px\">predictcrackdepthandobtainedanimpressive</span><span style=\"font-family: Lato-Regular; font-size:9px\">RMSEof0.0007</span><span style=\"font-family: Lato-Light; font-size:9px\">by</span><span style=\"font-family: Lato-Regular; font-size:9px\">Random\\n<br></span><span style=\"font-family: Lato-Regular; font-size:9px\">ForestRegressor</span><span style=\"font-family: Lato-Light; font-size:9px\">.\\n<br></span></div><div style=\"position:absolute; border: textbox 1px solid; writing-mode:lr-tb; left:219px; top:731px; width:330px; height:11px;\"><span style=\"font-family: Lato-Bold; font-size:11px\">MALLCUSTOMERSSEGMENTATION</span><span style=\"font-family: Lato-Light; font-size:11px\">(link)</span><span style=\"font-family: Raleway-Medium; font-size:9px\">Dec2022–Dec2022\\n<br></span></div><div style=\"position:absolute; border: textbox 1px solid; writing-mode:lr-tb; left:233px; top:755px; width:336px; height:33px;\"><span style=\"font-family: Lato-Light; font-size:9px\">•ConductedEDAPerformedcustomersegmentationusing</span><span style=\"font-family: Lato-Regular; font-size:9px\">KMeansclustering\\n<br></span><span style=\"font-family: Lato-Light; font-size:9px\">algorithm.Used</span><span style=\"font-family: Lato-Regular; font-size:9px\">WCSS</span><span style=\"font-family: Lato-Light; font-size:9px\">,</span><span style=\"font-family: Lato-Regular; font-size:9px\">kneedlibrary</span><span style=\"font-family: Lato-Light; font-size:9px\">,</span><span style=\"font-family: Lato-Regular; font-size:9px\">GapStatistic</span><span style=\"font-family: Lato-Light; font-size:9px\">,</span><span style=\"font-family: Lato-Regular; font-size:9px\">DBSCAN</span><span style=\"font-family: Lato-Light; font-size:9px\">todetermine\\n<br>theoptimalnumberofclusters.\\n<br></span></div><div style=\"position:absolute; border: textbox 1px solid; writing-mode:lr-tb; left:233px; top:792px; width:343px; height:9px;\"><span style=\"font-family: Lato-Light; font-size:9px\">•Plottedtheclustersusing</span><span style=\"font-family: Lato-Regular; font-size:9px\">AnnualincomevsSpendingscore</span><span style=\"font-family: Lato-Light; font-size:9px\">-</span><span style=\"font-family: Lato-Regular; font-size:9px\">silhouettescore-\\n<br></span></div><div style=\"position:absolute; border: textbox 1px solid; writing-mode:lr-tb; left:244px; top:803px; width:286px; height:9px;\"><span style=\"font-family: Lato-Regular; font-size:9px\">0.55</span><span style=\"font-family: Lato-Light; font-size:9px\">and</span><span style=\"font-family: Lato-Regular; font-size:9px\">IncomevsAgevsSpendingscore</span><span style=\"font-family: Lato-Light; font-size:9px\">-</span><span style=\"font-family: Lato-Regular; font-size:9px\">silhouettescore-0.45</span><span style=\"font-family: Lato-Light; font-size:9px\">.\\n<br></span></div><span style=\"position:absolute; border: black 1px solid; left:35px; top:46px; width:541px; height:0px;\"></span>\\n<span style=\"position:absolute; border: black 1px solid; left:0px; top:133px; width:612px; height:0px;\"></span>\\n<div style=\"position:absolute; top:0px;\">Page: <a href=\"#1\">1</a></div>\\n</body></html>\\n'"
            ],
            "application/vnd.google.colaboratory.intrinsic+json": {
              "type": "string"
            }
          },
          "metadata": {},
          "execution_count": 8
        }
      ]
    },
    {
      "cell_type": "markdown",
      "source": [
        "Parsing the html using BeautifulSoup"
      ],
      "metadata": {
        "id": "JFO61j5Q1NKZ"
      }
    },
    {
      "cell_type": "code",
      "source": [
        "pip install beautifulsoup4"
      ],
      "metadata": {
        "colab": {
          "base_uri": "https://localhost:8080/"
        },
        "id": "p1LtOEtoyMFB",
        "outputId": "6258dfff-6792-494f-e5fd-d48d5ecda430"
      },
      "execution_count": 9,
      "outputs": [
        {
          "output_type": "stream",
          "name": "stdout",
          "text": [
            "Requirement already satisfied: beautifulsoup4 in /usr/local/lib/python3.10/dist-packages (4.11.2)\n",
            "Requirement already satisfied: soupsieve>1.2 in /usr/local/lib/python3.10/dist-packages (from beautifulsoup4) (2.5)\n"
          ]
        }
      ]
    },
    {
      "cell_type": "code",
      "source": [
        "from bs4 import BeautifulSoup\n",
        "# Parsing the HTML content using BeautifulSoup\n",
        "soup = BeautifulSoup(html_resume, 'html.parser')"
      ],
      "metadata": {
        "id": "goPqLzPU3WxR"
      },
      "execution_count": 10,
      "outputs": []
    },
    {
      "cell_type": "code",
      "source": [
        "soup"
      ],
      "metadata": {
        "colab": {
          "base_uri": "https://localhost:8080/"
        },
        "id": "Ua8WIb5v4-bb",
        "outputId": "66edfcdf-a43b-4ed4-b557-fd853f6d6fe2"
      },
      "execution_count": 11,
      "outputs": [
        {
          "output_type": "execute_result",
          "data": {
            "text/plain": [
              "<html><head>\n",
              "<meta content=\"text/html; charset=utf-8\" http-equiv=\"Content-Type\"/>\n",
              "</head><body>\n",
              "<span style=\"position:absolute; border: gray 1px solid; left:0px; top:50px; width:612px; height:792px;\"></span>\n",
              "<div style=\"position:absolute; top:50px;\"><a name=\"1\">Page 1</a></div>\n",
              "<div style=\"position:absolute; border: textbox 1px solid; writing-mode:lr-tb; left:111px; top:67px; width:389px; height:39px;\"><span style=\"font-family: Lato-Hairline; font-size:39px\">ChintaKrishna</span><span style=\"font-family: Lato-Light; font-size:39px\">Mourya\n",
              "<br/></span></div><div style=\"position:absolute; border: textbox 1px solid; writing-mode:lr-tb; left:142px; top:113px; width:324px; height:10px;\"><span style=\"font-family: Raleway-Medium; font-size:10px\">mouryachinta19@gmail.com|+91-7793981667|+91-9346074972\n",
              "<br/></span></div><div style=\"position:absolute; border: textbox 1px solid; writing-mode:lr-tb; left:35px; top:146px; width:151px; height:68px;\"><span style=\"font-family: Lato-Light; font-size:15px\">EDUCATION\n",
              "<br/></span><span style=\"font-family: Lato-Bold; font-size:11px\">IITKHARAGPUR\n",
              "<br/></span><span style=\"font-family: Raleway-Medium; font-size:10px\">BTechinOceanEngineering\n",
              "<br/></span><span style=\"font-family: Raleway-Medium; font-size:9px\">MAY2021|WestBengal\n",
              "<br/>CGPA:6.59/10\n",
              "<br/></span></div><div style=\"position:absolute; border: textbox 1px solid; writing-mode:lr-tb; left:35px; top:223px; width:134px; height:48px;\"><span style=\"font-family: Lato-Bold; font-size:11px\">BIITJR.COLLEGE\n",
              "<br/></span><span style=\"font-family: Raleway-Medium; font-size:10px\">Intermediate-MPC\n",
              "<br/></span><span style=\"font-family: Raleway-Medium; font-size:9px\">March2017|AndhraPradesh\n",
              "<br/>Percentage:98.2\n",
              "<br/></span></div><div style=\"position:absolute; border: textbox 1px solid; writing-mode:lr-tb; left:35px; top:279px; width:151px; height:35px;\"><span style=\"font-family: Lato-Bold; font-size:11px\">BHASHYAMHIGHSCHOOL\n",
              "<br/></span><span style=\"font-family: Raleway-Medium; font-size:9px\">April2015|AndhraPradesh\n",
              "<br/>GPA:9.8\n",
              "<br/></span></div><div style=\"position:absolute; border: textbox 1px solid; writing-mode:lr-tb; left:35px; top:332px; width:175px; height:78px;\"><span style=\"font-family: Lato-Light; font-size:15px\">LINKS\n",
              "<br/></span><span style=\"font-family: Lato-Light; font-size:9px\">•</span><span style=\"font-family: Lato-Regular; font-size:9px\">LinkedIn</span><span style=\"font-family: Lato-Light; font-size:9px\">:\n",
              "<br/>https://www.linkedin.com/in/chinta-\n",
              "<br/>krishna-mourya-949aab178/\n",
              "<br/>•</span><span style=\"font-family: Lato-Regular; font-size:9px\">GitHub</span><span style=\"font-family: Lato-Light; font-size:9px\">:\n",
              "<br/>https://github.com/ChintaKrishnaMourya\n",
              "<br/></span></div><div style=\"position:absolute; border: textbox 1px solid; writing-mode:lr-tb; left:35px; top:419px; width:165px; height:89px;\"><span style=\"font-family: Lato-Light; font-size:15px\">SKILLS\n",
              "<br/></span><span style=\"font-family: Lato-Light; font-size:9px\">•MachineLearning•NaturalLanguage\n",
              "<br/>Processing•Python•NeuralNetwork\n",
              "<br/>•StatisticalModeling•SQL•Flask\n",
              "<br/>•PredictiveModeling•Statistics•Data\n",
              "<br/>Wrangling•DataVisualization•GIT\n",
              "<br/>•PromptEngineering.\n",
              "<br/></span></div><div style=\"position:absolute; border: textbox 1px solid; writing-mode:lr-tb; left:35px; top:526px; width:176px; height:66px;\"><span style=\"font-family: Lato-Light; font-size:15px\">CERTIFICATIONS\n",
              "<br/></span><span style=\"font-family: Lato-Light; font-size:9px\">Udemy-</span><span style=\"font-family: Lato-Regular; font-size:9px\">MachineLearningA-ZPythonin\n",
              "<br/>DataScience</span><span style=\"font-family: Lato-Light; font-size:9px\">(link)\n",
              "<br/>iNeuron-</span><span style=\"font-family: Lato-Regular; font-size:9px\">FullStackDataScience\n",
              "<br/></span><span style=\"font-family: Lato-Regular; font-size:9px\">Bootcamp</span><span style=\"font-family: Lato-Light; font-size:9px\">(link)\n",
              "<br/></span></div><div style=\"position:absolute; border: textbox 1px solid; writing-mode:lr-tb; left:35px; top:610px; width:93px; height:54px;\"><span style=\"font-family: Lato-Light; font-size:15px\">LANGUAGES\n",
              "<br/></span><span style=\"font-family: Lato-Light; font-size:9px\">•English(Fluent)\n",
              "<br/>•Telugu(Native)\n",
              "<br/>•Hindi(Beginner)\n",
              "<br/></span></div><div style=\"position:absolute; border: textbox 1px solid; writing-mode:lr-tb; left:35px; top:673px; width:178px; height:149px;\"><span style=\"font-family: Lato-Light; font-size:15px\">EXTRACURRICULAR\n",
              "<br/>ACTIVITIES\n",
              "<br/></span><span style=\"font-family: Lato-Light; font-size:9px\">•Stood</span><span style=\"font-family: Lato-Regular; font-size:9px\">1st</span><span style=\"font-family: Lato-Light; font-size:9px\">inQuizconductedbySBI\n",
              "<br/>YONOinKolkatain2018.•</span><span style=\"font-family: Lato-Regular; font-size:9px\">Volunteered\n",
              "<br/></span><span style=\"font-family: Lato-Light; font-size:9px\">inmultiplesocialserviceprograms\n",
              "<br/>organizedby”AACHARANACharitable\n",
              "<br/>trust”.•</span><span style=\"font-family: Lato-Regular; font-size:9px\">Organized</span><span style=\"font-family: Lato-Light; font-size:9px\">andconducteda\n",
              "<br/></span><span style=\"font-family: Lato-Regular; font-size:9px\">town-level</span><span style=\"font-family: Lato-Light; font-size:9px\">competitiveexamfor</span><span style=\"font-family: Lato-Regular; font-size:9px\">200</span><span style=\"font-family: Lato-Light; font-size:9px\">10th\n",
              "<br/>classstudents.•Participatedinvarious\n",
              "<br/>activitiesasan</span><span style=\"font-family: Lato-Regular; font-size:9px\">NSScandidate</span><span style=\"font-family: Lato-Light; font-size:9px\">during\n",
              "<br/></span><span style=\"font-family: Lato-Light; font-size:9px\">college.\n",
              "<br/></span></div><div style=\"position:absolute; border: textbox 1px solid; writing-mode:lr-tb; left:219px; top:146px; width:221px; height:44px;\"><span style=\"font-family: Lato-Light; font-size:15px\">EXPERIENCE\n",
              "<br/></span><span style=\"font-family: Lato-Bold; font-size:11px\">INEURON.AI</span><span style=\"font-family: Raleway-Medium; font-size:10px\">|DataScienceIntern(link)\n",
              "<br/></span><span style=\"font-family: Raleway-Medium; font-size:9px\">Jan2023–Apr2023\n",
              "<br/></span></div><div style=\"position:absolute; border: textbox 1px solid; writing-mode:lr-tb; left:233px; top:191px; width:343px; height:9px;\"><span style=\"font-family: Lato-Light; font-size:9px\">•Developedend-to-end</span><span style=\"font-family: Lato-Regular; font-size:9px\">creditcarddefaultpredictionmodel</span><span style=\"font-family: Lato-Light; font-size:9px\">(projectlink)using\n",
              "<br/></span></div><div style=\"position:absolute; border: textbox 1px solid; writing-mode:lr-tb; left:244px; top:203px; width:89px; height:9px;\"><span style=\"font-family: Lato-Light; font-size:9px\">PythonandMLtools.\n",
              "<br/></span></div><div style=\"position:absolute; border: textbox 1px solid; writing-mode:lr-tb; left:233px; top:216px; width:316px; height:9px;\"><span style=\"font-family: Lato-Light; font-size:9px\">•ConductedEDA,datapreprocessing,andmodelselectionwithoptimized\n",
              "<br/></span></div><div style=\"position:absolute; border: textbox 1px solid; writing-mode:lr-tb; left:244px; top:228px; width:324px; height:33px;\"><span style=\"font-family: Lato-Light; font-size:9px\">Pythoncodeandlogging.Outof</span><span style=\"font-family: Lato-Regular; font-size:9px\">”SVM”,”LogisticRegression”,”DecisionTree”,\n",
              "<br/>”RandomForest”,”NaiveBaye”</span><span style=\"font-family: Lato-Light; font-size:9px\">classifiers</span><span style=\"font-family: Lato-Regular; font-size:9px\">”RandomForest”</span><span style=\"font-family: Lato-Light; font-size:9px\">performedbetter\n",
              "<br/>with</span><span style=\"font-family: Lato-Regular; font-size:9px\">F1score0.86</span><span style=\"font-family: Lato-Light; font-size:9px\">.\n",
              "<br/></span></div><div style=\"position:absolute; border: textbox 1px solid; writing-mode:lr-tb; left:233px; top:265px; width:338px; height:9px;\"><span style=\"font-family: Lato-Light; font-size:9px\">•Designedprojectarchitectureandbuilt</span><span style=\"font-family: Lato-Regular; font-size:9px\">Flaskwebapp</span><span style=\"font-family: Lato-Light; font-size:9px\">,deployedon</span><span style=\"font-family: Lato-Regular; font-size:9px\">AWSEC2\n",
              "<br/></span></div><div style=\"position:absolute; border: textbox 1px solid; writing-mode:lr-tb; left:244px; top:277px; width:287px; height:21px;\"><span style=\"font-family: Lato-Light; font-size:9px\">foruseraccess.GainedexperienceinvariousMLtechniques,Python\n",
              "<br/>programming,deployment.\n",
              "<br/></span></div><div style=\"position:absolute; border: textbox 1px solid; writing-mode:lr-tb; left:219px; top:310px; width:207px; height:23px;\"><span style=\"font-family: Lato-Bold; font-size:11px\">BLUEAI-LABS</span><span style=\"font-family: Raleway-Medium; font-size:10px\">|FreelanceAIEngineer\n",
              "<br/></span><span style=\"font-family: Raleway-Medium; font-size:9px\">Apr2023-May2023\n",
              "<br/></span></div><div style=\"position:absolute; border: textbox 1px solid; writing-mode:lr-tb; left:233px; top:346px; width:314px; height:9px;\"><span style=\"font-family: Lato-Light; font-size:9px\">•Builta</span><span style=\"font-family: Lato-Regular; font-size:9px\">resumeparser</span><span style=\"font-family: Lato-Light; font-size:9px\">using</span><span style=\"font-family: Lato-Regular; font-size:9px\">pyresparser</span><span style=\"font-family: Lato-Light; font-size:9px\">toextractessentialdetailsfrom\n",
              "<br/></span></div><div style=\"position:absolute; border: textbox 1px solid; writing-mode:lr-tb; left:244px; top:358px; width:215px; height:9px;\"><span style=\"font-family: Lato-Light; font-size:9px\">multipleresumes,generatingaCSVfileforanalysis.\n",
              "<br/></span></div><div style=\"position:absolute; border: textbox 1px solid; writing-mode:lr-tb; left:233px; top:371px; width:307px; height:9px;\"><span style=\"font-family: Lato-Light; font-size:9px\">•Developedfunctionsutilizingthe</span><span style=\"font-family: Lato-Regular; font-size:9px\">OpenAIAPI</span><span style=\"font-family: Lato-Light; font-size:9px\">,</span><span style=\"font-family: Lato-Regular; font-size:9px\">promptengineering</span><span style=\"font-family: Lato-Light; font-size:9px\">for\n",
              "<br/></span></div><div style=\"position:absolute; border: textbox 1px solid; writing-mode:lr-tb; left:244px; top:383px; width:319px; height:33px;\"><span style=\"font-family: Lato-Light; font-size:9px\">scorecardgenerationbasedonjobdescriptionsandcandidatequalifications,\n",
              "<br/></span><span style=\"font-family: Lato-Regular; font-size:9px\">evaluatingresumes</span><span style=\"font-family: Lato-Light; font-size:9px\">,</span><span style=\"font-family: Lato-Regular; font-size:9px\">generatingsummaries</span><span style=\"font-family: Lato-Light; font-size:9px\">providingcodingassessment\n",
              "<br/>questionsand</span><span style=\"font-family: Lato-Regular; font-size:9px\">interviewquestiongeneration</span><span style=\"font-family: Lato-Light; font-size:9px\">.\n",
              "<br/></span></div><div style=\"position:absolute; border: textbox 1px solid; writing-mode:lr-tb; left:233px; top:420px; width:339px; height:9px;\"><span style=\"font-family: Lato-Light; font-size:9px\">•Gainedexperienceunderstandingofdifferentmodelslike</span><span style=\"font-family: Lato-Regular; font-size:9px\">ada</span><span style=\"font-family: Lato-Light; font-size:9px\">,</span><span style=\"font-family: Lato-Regular; font-size:9px\">babbage</span><span style=\"font-family: Lato-Light; font-size:9px\">,</span><span style=\"font-family: Lato-Regular; font-size:9px\">curie</span><span style=\"font-family: Lato-Light; font-size:9px\">,\n",
              "<br/></span></div><div style=\"position:absolute; border: textbox 1px solid; writing-mode:lr-tb; left:244px; top:431px; width:238px; height:9px;\"><span style=\"font-family: Lato-Regular; font-size:9px\">davinci</span><span style=\"font-family: Lato-Light; font-size:9px\">,andconceptsof</span><span style=\"font-family: Lato-Regular; font-size:9px\">LargeLanguageModels</span><span style=\"font-family: Lato-Light; font-size:9px\">(LLMs).\n",
              "<br/></span></div><div style=\"position:absolute; border: textbox 1px solid; writing-mode:lr-tb; left:219px; top:453px; width:313px; height:32px;\"><span style=\"font-family: Lato-Light; font-size:15px\">PROJECTS\n",
              "<br/></span><span style=\"font-family: Lato-Bold; font-size:11px\">FLATRESALEPRICEPREDICTION</span><span style=\"font-family: Lato-Light; font-size:11px\">(link)</span><span style=\"font-family: Raleway-Medium; font-size:9px\">Nov2022–Nov2022\n",
              "<br/></span></div><div style=\"position:absolute; border: textbox 1px solid; writing-mode:lr-tb; left:233px; top:497px; width:335px; height:21px;\"><span style=\"font-family: Lato-Light; font-size:9px\">•ConductedEDA,performedfeatureengineeringstatisticalanalysis,including\n",
              "<br/></span><span style=\"font-family: Lato-Regular; font-size:9px\">chi-square</span><span style=\"font-family: Lato-Light; font-size:9px\">tests,utilizedheatmapstoidentifycorrelationsamongfeatures.\n",
              "<br/></span></div><div style=\"position:absolute; border: textbox 1px solid; writing-mode:lr-tb; left:233px; top:522px; width:303px; height:9px;\"><span style=\"font-family: Lato-Light; font-size:9px\">•Trainedfourregressionmodels-</span><span style=\"font-family: Lato-Regular; font-size:9px\">RandomForestRegressor,XGBoost\n",
              "<br/></span></div><div style=\"position:absolute; border: textbox 1px solid; writing-mode:lr-tb; left:244px; top:533px; width:332px; height:21px;\"><span style=\"font-family: Lato-Regular; font-size:9px\">Regressor,DecisionTreeRegressor</span><span style=\"font-family: Lato-Light; font-size:9px\">and</span><span style=\"font-family: Lato-Regular; font-size:9px\">NeuralNetwork</span><span style=\"font-family: Lato-Light; font-size:9px\">-andcomparedtheir\n",
              "<br/>performance.\n",
              "<br/></span></div><div style=\"position:absolute; border: textbox 1px solid; writing-mode:lr-tb; left:233px; top:558px; width:336px; height:33px;\"><span style=\"font-family: Lato-Light; font-size:9px\">•Identifiedthatthe</span><span style=\"font-family: Lato-Regular; font-size:9px\">RandomForestRegressor</span><span style=\"font-family: Lato-Light; font-size:9px\">modeloutperformedtheothers\n",
              "<br/>with</span><span style=\"font-family: Lato-Regular; font-size:9px\">R2score0.96</span><span style=\"font-family: Lato-Light; font-size:9px\">andusedittopredictflatresaleprices.</span><span style=\"font-family: Lato-Regular; font-size:9px\">XGBoost</span><span style=\"font-family: Lato-Light; font-size:9px\">gave\n",
              "<br/></span><span style=\"font-family: Lato-Regular; font-size:9px\">0.951</span><span style=\"font-family: Lato-Light; font-size:9px\">,</span><span style=\"font-family: Lato-Regular; font-size:9px\">DecisionTree</span><span style=\"font-family: Lato-Light; font-size:9px\">gave</span><span style=\"font-family: Lato-Regular; font-size:9px\">0.94</span><span style=\"font-family: Lato-Light; font-size:9px\">and</span><span style=\"font-family: Lato-Regular; font-size:9px\">NeuralNetwork</span><span style=\"font-family: Lato-Light; font-size:9px\">with</span><span style=\"font-family: Lato-Regular; font-size:9px\">relativeerror0.04</span><span style=\"font-family: Lato-Light; font-size:9px\">.\n",
              "<br/></span></div><div style=\"position:absolute; border: textbox 1px solid; writing-mode:lr-tb; left:219px; top:603px; width:356px; height:23px;\"><span style=\"font-family: Lato-Bold; font-size:11px\">CRACKDEPTHPREDICTIONOFABAQUSMODEL</span><span style=\"font-family: Lato-Light; font-size:11px\">(link)</span><span style=\"font-family: Raleway-Medium; font-size:9px\">Aug2020–\n",
              "<br/>Dec2020\n",
              "<br/></span></div><div style=\"position:absolute; border: textbox 1px solid; writing-mode:lr-tb; left:233px; top:638px; width:343px; height:45px;\"><span style=\"font-family: Lato-Light; font-size:9px\">•Analyzedcracksofvaryingdepthsin</span><span style=\"font-family: Lato-Regular; font-size:9px\">Abaqussoftware</span><span style=\"font-family: Lato-Light; font-size:9px\">andextracted\n",
              "<br/>correspondingstrainvaluesmergedmultipledatasetstocreatea\n",
              "<br/>comprehensivedatasetwithcrackdepthasthetargetvariableandstrainvalues\n",
              "<br/>fromfoursensorsastheindependentvariables.\n",
              "<br/></span></div><div style=\"position:absolute; border: textbox 1px solid; writing-mode:lr-tb; left:233px; top:687px; width:316px; height:9px;\"><span style=\"font-family: Lato-Light; font-size:9px\">•Trained</span><span style=\"font-family: Lato-Regular; font-size:9px\">RandomForestRegressionandLinearRegression</span><span style=\"font-family: Lato-Light; font-size:9px\">algorithmsto\n",
              "<br/></span></div><div style=\"position:absolute; border: textbox 1px solid; writing-mode:lr-tb; left:244px; top:699px; width:320px; height:21px;\"><span style=\"font-family: Lato-Light; font-size:9px\">predictcrackdepthandobtainedanimpressive</span><span style=\"font-family: Lato-Regular; font-size:9px\">RMSEof0.0007</span><span style=\"font-family: Lato-Light; font-size:9px\">by</span><span style=\"font-family: Lato-Regular; font-size:9px\">Random\n",
              "<br/></span><span style=\"font-family: Lato-Regular; font-size:9px\">ForestRegressor</span><span style=\"font-family: Lato-Light; font-size:9px\">.\n",
              "<br/></span></div><div style=\"position:absolute; border: textbox 1px solid; writing-mode:lr-tb; left:219px; top:731px; width:330px; height:11px;\"><span style=\"font-family: Lato-Bold; font-size:11px\">MALLCUSTOMERSSEGMENTATION</span><span style=\"font-family: Lato-Light; font-size:11px\">(link)</span><span style=\"font-family: Raleway-Medium; font-size:9px\">Dec2022–Dec2022\n",
              "<br/></span></div><div style=\"position:absolute; border: textbox 1px solid; writing-mode:lr-tb; left:233px; top:755px; width:336px; height:33px;\"><span style=\"font-family: Lato-Light; font-size:9px\">•ConductedEDAPerformedcustomersegmentationusing</span><span style=\"font-family: Lato-Regular; font-size:9px\">KMeansclustering\n",
              "<br/></span><span style=\"font-family: Lato-Light; font-size:9px\">algorithm.Used</span><span style=\"font-family: Lato-Regular; font-size:9px\">WCSS</span><span style=\"font-family: Lato-Light; font-size:9px\">,</span><span style=\"font-family: Lato-Regular; font-size:9px\">kneedlibrary</span><span style=\"font-family: Lato-Light; font-size:9px\">,</span><span style=\"font-family: Lato-Regular; font-size:9px\">GapStatistic</span><span style=\"font-family: Lato-Light; font-size:9px\">,</span><span style=\"font-family: Lato-Regular; font-size:9px\">DBSCAN</span><span style=\"font-family: Lato-Light; font-size:9px\">todetermine\n",
              "<br/>theoptimalnumberofclusters.\n",
              "<br/></span></div><div style=\"position:absolute; border: textbox 1px solid; writing-mode:lr-tb; left:233px; top:792px; width:343px; height:9px;\"><span style=\"font-family: Lato-Light; font-size:9px\">•Plottedtheclustersusing</span><span style=\"font-family: Lato-Regular; font-size:9px\">AnnualincomevsSpendingscore</span><span style=\"font-family: Lato-Light; font-size:9px\">-</span><span style=\"font-family: Lato-Regular; font-size:9px\">silhouettescore-\n",
              "<br/></span></div><div style=\"position:absolute; border: textbox 1px solid; writing-mode:lr-tb; left:244px; top:803px; width:286px; height:9px;\"><span style=\"font-family: Lato-Regular; font-size:9px\">0.55</span><span style=\"font-family: Lato-Light; font-size:9px\">and</span><span style=\"font-family: Lato-Regular; font-size:9px\">IncomevsAgevsSpendingscore</span><span style=\"font-family: Lato-Light; font-size:9px\">-</span><span style=\"font-family: Lato-Regular; font-size:9px\">silhouettescore-0.45</span><span style=\"font-family: Lato-Light; font-size:9px\">.\n",
              "<br/></span></div><span style=\"position:absolute; border: black 1px solid; left:35px; top:46px; width:541px; height:0px;\"></span>\n",
              "<span style=\"position:absolute; border: black 1px solid; left:0px; top:133px; width:612px; height:0px;\"></span>\n",
              "<div style=\"position:absolute; top:0px;\">Page: <a href=\"#1\">1</a></div>\n",
              "</body></html>"
            ]
          },
          "metadata": {},
          "execution_count": 11
        }
      ]
    },
    {
      "cell_type": "markdown",
      "source": [
        "Finding the font sizes of the required headings"
      ],
      "metadata": {
        "id": "K1RGchzTa-Iu"
      }
    },
    {
      "cell_type": "code",
      "source": [
        "def find_specific_heading_font_sizes(html_resume, headings):\n",
        "  '''Function to find the font size of the heading'''\n",
        "  # Parsing the HTML content\n",
        "  soup = BeautifulSoup(html_resume, 'html.parser')\n",
        "\n",
        "  # Creating a dictionary to store the maximum font size for each heading(since maximum font size will be the case of headings)\n",
        "  max_font_sizes = {heading: 0 for heading in headings}\n",
        "\n",
        "  # Iterating through all the <span> elements found in the HTML content\n",
        "  for each_span in soup.find_all('span'):\n",
        "        # Checking if the span contains any of the specified heading texts in a case-insensitive manner\n",
        "        span_text = each_span.get_text().strip().lower()\n",
        "        for heading in headings:\n",
        "            if heading in span_text:\n",
        "                # Extracting the font size\n",
        "                span_style = each_span.get('style')\n",
        "                if span_style:\n",
        "                    style_parts = span_style.split(';')\n",
        "                    for each_part in style_parts:\n",
        "                        if 'font-size' in each_part:\n",
        "                            font_size = each_part.split(':')[1].strip()\n",
        "                            font_size = int(font_size.replace('px', ''))  # Converting to an integer(since the the result will be like 11px,so removing px and making 11 to int)\n",
        "                            # Updating the maximum font size for the heading\n",
        "                            if font_size > max_font_sizes[heading]:\n",
        "                                max_font_sizes[heading] = font_size\n",
        "                            # We need only the headings found in the resume\n",
        "  font_sizes_of_headings = {heading:f\"{font_size}px\" for heading,font_size in max_font_sizes.items() if font_size>0}\n",
        "  return font_sizes_of_headings\n"
      ],
      "metadata": {
        "id": "ByJeBjvy4_BI"
      },
      "execution_count": 12,
      "outputs": []
    },
    {
      "cell_type": "code",
      "source": [
        "# List of heading texts to search for\n",
        "headings = ['education', 'experience', 'skill','award','project','achievement','internhsip','activities','link','certification','language','positions','academics']"
      ],
      "metadata": {
        "id": "dr6I0-Jx9TlA"
      },
      "execution_count": 13,
      "outputs": []
    },
    {
      "cell_type": "code",
      "source": [
        "# Calling the function to find and print font sizes for the specified headings\n",
        "headings_font  = find_specific_heading_font_sizes(html_resume, headings)\n",
        "headings_font"
      ],
      "metadata": {
        "colab": {
          "base_uri": "https://localhost:8080/"
        },
        "id": "qOy6vIOj9YAY",
        "outputId": "cda5a2b2-d567-4343-a058-162977590e12"
      },
      "execution_count": 14,
      "outputs": [
        {
          "output_type": "execute_result",
          "data": {
            "text/plain": [
              "{'education': '15px',\n",
              " 'experience': '15px',\n",
              " 'skill': '15px',\n",
              " 'project': '15px',\n",
              " 'activities': '15px',\n",
              " 'link': '15px',\n",
              " 'certification': '15px',\n",
              " 'language': '15px'}"
            ]
          },
          "metadata": {},
          "execution_count": 14
        }
      ]
    },
    {
      "cell_type": "markdown",
      "source": [
        "Finding the text of the education heading"
      ],
      "metadata": {
        "id": "oIjLDu2VqNbt"
      }
    },
    {
      "cell_type": "code",
      "source": [
        "education_font = headings_font['education']\n",
        "education_font"
      ],
      "metadata": {
        "colab": {
          "base_uri": "https://localhost:8080/",
          "height": 36
        },
        "id": "711MxtT1m5bt",
        "outputId": "37dfa5b8-619d-428f-ab6c-4b4cfee7d481"
      },
      "execution_count": 15,
      "outputs": [
        {
          "output_type": "execute_result",
          "data": {
            "text/plain": [
              "'15px'"
            ],
            "application/vnd.google.colaboratory.intrinsic+json": {
              "type": "string"
            }
          },
          "metadata": {},
          "execution_count": 15
        }
      ]
    },
    {
      "cell_type": "code",
      "source": [
        "dict_instead_of_education = {key:value for key,value in headings_font.items() if key!='education'}\n",
        "dict_instead_of_education"
      ],
      "metadata": {
        "colab": {
          "base_uri": "https://localhost:8080/"
        },
        "id": "DUSkhzLonQZZ",
        "outputId": "f7eb1024-5eef-4662-adf9-45563e524cd9"
      },
      "execution_count": 16,
      "outputs": [
        {
          "output_type": "execute_result",
          "data": {
            "text/plain": [
              "{'experience': '15px',\n",
              " 'skill': '15px',\n",
              " 'project': '15px',\n",
              " 'activities': '15px',\n",
              " 'link': '15px',\n",
              " 'certification': '15px',\n",
              " 'language': '15px'}"
            ]
          },
          "metadata": {},
          "execution_count": 16
        }
      ]
    },
    {
      "cell_type": "code",
      "source": [
        "required_text = None\n",
        "output = ''\n",
        "\n",
        "for each_span in soup.find_all('span'):\n",
        "    text = each_span.get_text().strip().lower()  # Convert text to lowercase for case-insensitive comparison\n",
        "    span_style = each_span.get('style')\n",
        "    style_parts = span_style.split(';')\n",
        "    font_size = None\n",
        "    new_font_size = None\n",
        "    text_next = \"\"\n",
        "    for each_part in style_parts:\n",
        "        if 'font-size' in each_part:\n",
        "            font_size = each_part.split(':')[1].strip()\n",
        "\n",
        "    if font_size == education_font and 'education' in text:\n",
        "        output += str(each_span)\n",
        "        next_text = each_span.find_next('span')\n",
        "        output += str(next_text)\n",
        "        for key, value in dict_instead_of_education.items():\n",
        "\n",
        "            # Check if the font size doesn't match and the key is not in the text_next\n",
        "            if value != new_font_size and key not in text_next:\n",
        "                required_text = next_text.find_next('span')\n",
        "\n",
        "                text_next = required_text.get_text().strip().lower()\n",
        "                text_style = required_text.get('style')\n",
        "                text_parts = text_style.split(';')\n",
        "                for part in text_parts:\n",
        "                    if 'font-size' in part:\n",
        "                      new_font_size = part.split(':')[1].strip()\n",
        "                next_text=required_text\n",
        "                output += str(required_text)\n",
        "            else:\n",
        "              continue\n",
        "\n",
        "\n",
        "html_output = HTML(output)\n",
        "display(html_output)"
      ],
      "metadata": {
        "colab": {
          "base_uri": "https://localhost:8080/",
          "height": 227
        },
        "id": "Vxi99atxSUsG",
        "outputId": "e5f022c5-87a4-4fed-eb0a-612a2cef9854"
      },
      "execution_count": 17,
      "outputs": [
        {
          "output_type": "display_data",
          "data": {
            "text/plain": [
              "<IPython.core.display.HTML object>"
            ],
            "text/html": [
              "<span style=\"font-family: Lato-Light; font-size:15px\">EDUCATION\n",
              "<br/></span><span style=\"font-family: Lato-Bold; font-size:11px\">IITKHARAGPUR\n",
              "<br/></span><span style=\"font-family: Raleway-Medium; font-size:10px\">BTechinOceanEngineering\n",
              "<br/></span><span style=\"font-family: Raleway-Medium; font-size:9px\">MAY2021|WestBengal\n",
              "<br/>CGPA:6.59/10\n",
              "<br/></span><span style=\"font-family: Lato-Bold; font-size:11px\">BIITJR.COLLEGE\n",
              "<br/></span><span style=\"font-family: Raleway-Medium; font-size:10px\">Intermediate-MPC\n",
              "<br/></span><span style=\"font-family: Raleway-Medium; font-size:9px\">March2017|AndhraPradesh\n",
              "<br/>Percentage:98.2\n",
              "<br/></span><span style=\"font-family: Lato-Bold; font-size:11px\">BHASHYAMHIGHSCHOOL\n",
              "<br/></span><span style=\"font-family: Raleway-Medium; font-size:9px\">April2015|AndhraPradesh\n",
              "<br/>GPA:9.8\n",
              "<br/></span>"
            ]
          },
          "metadata": {}
        }
      ]
    },
    {
      "cell_type": "code",
      "source": [
        "output"
      ],
      "metadata": {
        "id": "1VNA_WCQ19PA",
        "outputId": "c9c32aa4-3cfc-4c9c-e9be-d51f3452df3b",
        "colab": {
          "base_uri": "https://localhost:8080/",
          "height": 88
        }
      },
      "execution_count": null,
      "outputs": [
        {
          "output_type": "execute_result",
          "data": {
            "text/plain": [
              "'<span style=\"font-family: SofiaProBold; font-size:36px\">EDUCATION\\n<br/></span><span style=\"font-family: Graphik-Bold; font-size:45px\">National University of Singapore</span><span style=\"font-family: Graphik-Regular; font-size:45px\"> — B. Computing\\n<br/></span><span style=\"font-family: Graphik-Regular; font-size:30px\">2012 - 2016\\n<br/></span><span style=\"font-family: Graphik-Regular; font-size:38px\">Bachelor of Computing (honours with Distinction) in Communications and \\n<br/></span>'"
            ],
            "application/vnd.google.colaboratory.intrinsic+json": {
              "type": "string"
            }
          },
          "metadata": {},
          "execution_count": 45
        }
      ]
    },
    {
      "cell_type": "code",
      "source": [],
      "metadata": {
        "id": "3ye2k_tK2BeY"
      },
      "execution_count": null,
      "outputs": []
    }
  ]
}
