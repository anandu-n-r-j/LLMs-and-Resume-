{
  "nbformat": 4,
  "nbformat_minor": 0,
  "metadata": {
    "colab": {
      "provenance": []
    },
    "kernelspec": {
      "name": "python3",
      "display_name": "Python 3"
    },
    "language_info": {
      "name": "python"
    }
  },
  "cells": [
    {
      "cell_type": "markdown",
      "source": [
        "Using pdf miner"
      ],
      "metadata": {
        "id": "loICayiQGRFI"
      }
    },
    {
      "cell_type": "code",
      "source": [
        "pip install pdfminer.six"
      ],
      "metadata": {
        "colab": {
          "base_uri": "https://localhost:8080/"
        },
        "id": "9CydTO3ZGU9l",
        "outputId": "a3e314ac-ef2e-44d9-a679-e01a892b5b1e"
      },
      "execution_count": 1,
      "outputs": [
        {
          "output_type": "stream",
          "name": "stdout",
          "text": [
            "Collecting pdfminer.six\n",
            "  Downloading pdfminer.six-20221105-py3-none-any.whl (5.6 MB)\n",
            "\u001b[?25l     \u001b[90m━━━━━━━━━━━━━━━━━━━━━━━━━━━━━━━━━━━━━━━━\u001b[0m \u001b[32m0.0/5.6 MB\u001b[0m \u001b[31m?\u001b[0m eta \u001b[36m-:--:--\u001b[0m\r\u001b[2K     \u001b[91m━\u001b[0m\u001b[90m╺\u001b[0m\u001b[90m━━━━━━━━━━━━━━━━━━━━━━━━━━━━━━━━━━━━━━\u001b[0m \u001b[32m0.2/5.6 MB\u001b[0m \u001b[31m5.6 MB/s\u001b[0m eta \u001b[36m0:00:01\u001b[0m\r\u001b[2K     \u001b[91m━━━━━━━━━━━━━\u001b[0m\u001b[91m╸\u001b[0m\u001b[90m━━━━━━━━━━━━━━━━━━━━━━━━━━\u001b[0m \u001b[32m1.9/5.6 MB\u001b[0m \u001b[31m27.7 MB/s\u001b[0m eta \u001b[36m0:00:01\u001b[0m\r\u001b[2K     \u001b[91m━━━━━━━━━━━━━━━━━━━━━━━━━━━━━━━━━━━━━━━\u001b[0m\u001b[91m╸\u001b[0m \u001b[32m5.6/5.6 MB\u001b[0m \u001b[31m62.3 MB/s\u001b[0m eta \u001b[36m0:00:01\u001b[0m\r\u001b[2K     \u001b[90m━━━━━━━━━━━━━━━━━━━━━━━━━━━━━━━━━━━━━━━━\u001b[0m \u001b[32m5.6/5.6 MB\u001b[0m \u001b[31m51.1 MB/s\u001b[0m eta \u001b[36m0:00:00\u001b[0m\n",
            "\u001b[?25hRequirement already satisfied: charset-normalizer>=2.0.0 in /usr/local/lib/python3.10/dist-packages (from pdfminer.six) (3.3.2)\n",
            "Requirement already satisfied: cryptography>=36.0.0 in /usr/local/lib/python3.10/dist-packages (from pdfminer.six) (41.0.5)\n",
            "Requirement already satisfied: cffi>=1.12 in /usr/local/lib/python3.10/dist-packages (from cryptography>=36.0.0->pdfminer.six) (1.16.0)\n",
            "Requirement already satisfied: pycparser in /usr/local/lib/python3.10/dist-packages (from cffi>=1.12->cryptography>=36.0.0->pdfminer.six) (2.21)\n",
            "Installing collected packages: pdfminer.six\n",
            "Successfully installed pdfminer.six-20221105\n"
          ]
        }
      ]
    },
    {
      "cell_type": "code",
      "source": [
        "import pdfminer"
      ],
      "metadata": {
        "id": "Bq8ex6uaJn9H"
      },
      "execution_count": 2,
      "outputs": []
    },
    {
      "cell_type": "code",
      "source": [
        "from pdfminer.pdfinterp import PDFResourceManager, PDFPageInterpreter\n",
        "from pdfminer.converter import HTMLConverter\n",
        "from pdfminer.layout import LAParams\n",
        "from pdfminer.pdfpage import PDFPage\n",
        "from io import BytesIO"
      ],
      "metadata": {
        "id": "kywN1s2iJosK"
      },
      "execution_count": 3,
      "outputs": []
    },
    {
      "cell_type": "code",
      "source": [
        "def converting_pdf_to_html(pdf_file):\n",
        "    # Creating a PDF resource manager\n",
        "    rsrcmgr = PDFResourceManager()\n",
        "    # Creating a buffer to store the HTML content\n",
        "    retstr = BytesIO()\n",
        "    codec = 'utf-8'\n",
        "    # Setting layout analysis parameters\n",
        "    laparams = LAParams(char_margin=10.0, word_margin=5.0)\n",
        "    # Creating an HTMLConverter\n",
        "    device = HTMLConverter(rsrcmgr, retstr, codec=codec, laparams=laparams)\n",
        "    with open(pdf_file, 'rb') as pdf:\n",
        "        pdf_interpreter = PDFPageInterpreter(rsrcmgr, device)\n",
        "        for page in PDFPage.get_pages(pdf):\n",
        "            pdf_interpreter.process_page(page)  # Processing each page of the PDF\n",
        "    device.close()  # Closing the HTMLConverter device\n",
        "    content = retstr.getvalue()  # HTML content from the buffer\n",
        "    retstr.close()  # Closing the buffer\n",
        "\n",
        "    # Returning the HTML content as a string\n",
        "    return content.decode('utf-8')\n"
      ],
      "metadata": {
        "id": "HFERy_4CJvle"
      },
      "execution_count": 4,
      "outputs": []
    },
    {
      "cell_type": "code",
      "source": [
        "pdf_file = '/content/Xinni_Chng.pdf'"
      ],
      "metadata": {
        "id": "tMdUIHkaL_vl"
      },
      "execution_count": 5,
      "outputs": []
    },
    {
      "cell_type": "code",
      "source": [
        "html_resume = converting_pdf_to_html(pdf_file)"
      ],
      "metadata": {
        "id": "m3S4EOvcMGem"
      },
      "execution_count": 6,
      "outputs": []
    },
    {
      "cell_type": "code",
      "source": [
        "from IPython.display import HTML\n",
        "HTML(html_resume)"
      ],
      "metadata": {
        "colab": {
          "base_uri": "https://localhost:8080/",
          "height": 37
        },
        "id": "BcxNc1mkMJSx",
        "outputId": "c9b6c554-0a4c-4973-badc-b14826c89cf3"
      },
      "execution_count": 7,
      "outputs": [
        {
          "output_type": "execute_result",
          "data": {
            "text/plain": [
              "<IPython.core.display.HTML object>"
            ],
            "text/html": [
              "<html><head>\n",
              "<meta http-equiv=\"Content-Type\" content=\"text/html; charset=utf-8\">\n",
              "</head><body>\n",
              "<span style=\"position:absolute; border: gray 1px solid; left:0px; top:50px; width:2480px; height:3508px;\"></span>\n",
              "<div style=\"position:absolute; top:50px;\"><a name=\"1\">Page 1</a></div>\n",
              "<div style=\"position:absolute; border: textbox 1px solid; writing-mode:lr-tb; left:981px; top:332px; width:277px; height:36px;\"><span style=\"font-family: SofiaProBold; font-size:36px\">EXPERIENCE\n",
              "<br></span></div><div style=\"position:absolute; border: textbox 1px solid; writing-mode:lr-tb; left:981px; top:492px; width:859px; height:101px;\"><span style=\"font-family: Graphik-Bold; font-size:45px\">Google</span><span style=\"font-family: MinionPro-Regular; font-size:48px\"> </span><span style=\"font-family: Graphik-Regular; font-size:45px\">— User experience Design intern\n",
              "<br></span><span style=\"font-family: Graphik-Regular; font-size:30px\">MAY 2016 - PRESENT\n",
              "<br></span></div><div style=\"position:absolute; border: textbox 1px solid; writing-mode:lr-tb; left:981px; top:636px; width:1346px; height:38px;\"><span style=\"font-family: Graphik-Regular; font-size:38px\">Bridging the world - collaborating with designers, engineers and product \n",
              "<br></span></div><div style=\"position:absolute; border: textbox 1px solid; writing-mode:lr-tb; left:981px; top:696px; width:1144px; height:38px;\"><span style=\"font-family: Graphik-Regular; font-size:38px\">managers to build an improved experience for google translate.\n",
              "<br></span></div><div style=\"position:absolute; border: textbox 1px solid; writing-mode:lr-tb; left:981px; top:842px; width:1025px; height:45px;\"><span style=\"font-family: Graphik-Bold; font-size:45px\">NUS School of Computing </span><span style=\"font-family: Graphik-Regular; font-size:45px\">— teaching Assistant\n",
              "<br></span></div><div style=\"position:absolute; border: textbox 1px solid; writing-mode:lr-tb; left:981px; top:914px; width:299px; height:30px;\"><span style=\"font-family: Graphik-Regular; font-size:30px\">DEC 2015 - MAY 2016\n",
              "<br></span></div><div style=\"position:absolute; border: textbox 1px solid; writing-mode:lr-tb; left:981px; top:986px; width:1346px; height:38px;\"><span style=\"font-family: Graphik-Regular; font-size:38px\">Collaborated with the lecturer to craft a new syllabus for User interface \n",
              "<br></span></div><div style=\"position:absolute; border: textbox 1px solid; writing-mode:lr-tb; left:981px; top:1046px; width:1346px; height:38px;\"><span style=\"font-family: Graphik-Regular; font-size:38px\">Development; Conducted lectures on responsive design and best web \n",
              "<br></span></div><div style=\"position:absolute; border: textbox 1px solid; writing-mode:lr-tb; left:981px; top:1106px; width:1093px; height:38px;\"><span style=\"font-family: Graphik-Regular; font-size:38px\">practices to 50+ students and held one-on-one help sessions.\n",
              "<br></span></div><div style=\"position:absolute; border: textbox 1px solid; writing-mode:lr-tb; left:980px; top:1252px; width:601px; height:45px;\"><span style=\"font-family: Graphik-Bold; font-size:45px\">IDA </span><span style=\"font-family: Graphik-Regular; font-size:45px\">— Product Design intern\n",
              "<br></span></div><div style=\"position:absolute; border: textbox 1px solid; writing-mode:lr-tb; left:981px; top:1324px; width:299px; height:30px;\"><span style=\"font-family: Graphik-Regular; font-size:30px\">DEC 2015 - MAY 2016\n",
              "<br></span></div><div style=\"position:absolute; border: textbox 1px solid; writing-mode:lr-tb; left:980px; top:1396px; width:1346px; height:38px;\"><span style=\"font-family: Graphik-Regular; font-size:38px\">Worked with an agile team to build a streamlined grant application system \n",
              "<br></span></div><div style=\"position:absolute; border: textbox 1px solid; writing-mode:lr-tb; left:980px; top:1456px; width:1346px; height:38px;\"><span style=\"font-family: Graphik-Regular; font-size:38px\">to benefit thousands of local businesses; Presented usability improvements; \n",
              "<br></span></div><div style=\"position:absolute; border: textbox 1px solid; writing-mode:lr-tb; left:980px; top:1516px; width:1346px; height:38px;\"><span style=\"font-family: Graphik-Regular; font-size:38px\">Created high fidelity mockups; Conducted user studies; Pioneered developer \n",
              "<br></span></div><div style=\"position:absolute; border: textbox 1px solid; writing-mode:lr-tb; left:980px; top:1576px; width:840px; height:38px;\"><span style=\"font-family: Graphik-Regular; font-size:38px\">documentation in a fast-growing 50-man team.\n",
              "<br></span></div><div style=\"position:absolute; border: textbox 1px solid; writing-mode:lr-tb; left:980px; top:1722px; width:882px; height:101px;\"><span style=\"font-family: Graphik-Bold; font-size:45px\">PACIS</span><span style=\"font-family: MinionPro-Regular; font-size:36px\"> </span><span style=\"font-family: Graphik-Regular; font-size:45px\">— Product Designer and Developer\n",
              "<br></span><span style=\"font-family: Graphik-Regular; font-size:30px\">JUN 2014 – JUL 2015\n",
              "<br></span></div><div style=\"position:absolute; border: textbox 1px solid; writing-mode:lr-tb; left:981px; top:1866px; width:1346px; height:38px;\"><span style=\"font-family: Graphik-Regular; font-size:38px\">Did branding, design and development work for the 19th Pacific Asia \n",
              "<br></span></div><div style=\"position:absolute; border: textbox 1px solid; writing-mode:lr-tb; left:981px; top:1926px; width:1224px; height:38px;\"><span style=\"font-family: Graphik-Regular; font-size:38px\">Conference on Information Systems’ official website and mobile app.\n",
              "<br></span></div><div style=\"position:absolute; border: textbox 1px solid; writing-mode:lr-tb; left:980px; top:2102px; width:259px; height:36px;\"><span style=\"font-family: SofiaProBold; font-size:36px\">EDUCATION\n",
              "<br></span></div><div style=\"position:absolute; border: textbox 1px solid; writing-mode:lr-tb; left:980px; top:2255px; width:1069px; height:45px;\"><span style=\"font-family: Graphik-Bold; font-size:45px\">National University of Singapore</span><span style=\"font-family: Graphik-Regular; font-size:45px\"> — B. Computing\n",
              "<br></span></div><div style=\"position:absolute; border: textbox 1px solid; writing-mode:lr-tb; left:981px; top:2327px; width:160px; height:30px;\"><span style=\"font-family: Graphik-Regular; font-size:30px\">2012 - 2016\n",
              "<br></span></div><div style=\"position:absolute; border: textbox 1px solid; writing-mode:lr-tb; left:980px; top:2399px; width:1346px; height:38px;\"><span style=\"font-family: Graphik-Regular; font-size:38px\">Bachelor of Computing (honours with Distinction) in Communications and \n",
              "<br></span></div><div style=\"position:absolute; border: textbox 1px solid; writing-mode:lr-tb; left:980px; top:2459px; width:1346px; height:38px;\"><span style=\"font-family: Graphik-Regular; font-size:38px\">Media. </span><span style=\"font-family: Graphik-Medium; font-size:38px\">Distinctions</span><span style=\"font-family: Graphik-Regular; font-size:38px\">: Software engineering (A), interaction Design (A+), User \n",
              "<br></span></div><div style=\"position:absolute; border: textbox 1px solid; writing-mode:lr-tb; left:186px; top:938px; width:446px; height:95px;\"><span style=\"font-family: SofiaProBold; font-size:95px\">xinni chng\n",
              "<br></span></div><div style=\"position:absolute; border: textbox 1px solid; writing-mode:lr-tb; left:186px; top:1052px; width:445px; height:30px;\"><span style=\"font-family: Graphik-Light; font-size:30px\">USER EXPERIENCE DESIGNER\n",
              "<br></span></div><div style=\"position:absolute; border: textbox 1px solid; writing-mode:lr-tb; left:263px; top:1176px; width:283px; height:40px;\"><span style=\"font-family: Graphik-Medium; font-size:40px\">http://xinni.co\n",
              "<br></span></div><div style=\"position:absolute; border: textbox 1px solid; writing-mode:lr-tb; left:187px; top:1314px; width:27px; height:48px;\"><span style=\"font-family: FontAwesome; font-size:48px\">\n",
              "<br></span></div><div style=\"position:absolute; border: textbox 1px solid; writing-mode:lr-tb; left:186px; top:1386px; width:40px; height:109px;\"><span style=\"font-family: FontAwesome; font-size:48px\">\n",
              "<br></span><span style=\"font-family: FontAwesome; font-size:40px\">\n",
              "<br></span></div><div style=\"position:absolute; border: textbox 1px solid; writing-mode:lr-tb; left:263px; top:1321px; width:221px; height:40px;\"><span style=\"font-family: Graphik-Regular; font-size:40px\">SF Bay Area\n",
              "<br></span></div><div style=\"position:absolute; border: textbox 1px solid; writing-mode:lr-tb; left:263px; top:1389px; width:279px; height:40px;\"><span style=\"font-family: Graphik-Regular; font-size:40px\">(669) 262-8183\n",
              "<br></span></div><div style=\"position:absolute; border: textbox 1px solid; writing-mode:lr-tb; left:263px; top:1457px; width:273px; height:40px;\"><span style=\"font-family: Graphik-Regular; font-size:40px\">hello@xinni.co\n",
              "<br></span></div><div style=\"position:absolute; border: textbox 1px solid; writing-mode:lr-tb; left:182px; top:1745px; width:147px; height:36px;\"><span style=\"font-family: SofiaProBold; font-size:36px\">SKILLS\n",
              "<br></span></div><div style=\"position:absolute; border: textbox 1px solid; writing-mode:lr-tb; left:183px; top:1894px; width:110px; height:30px;\"><span style=\"font-family: Graphik-Regular; font-size:30px\">DeSign\n",
              "<br></span></div><div style=\"position:absolute; border: textbox 1px solid; writing-mode:lr-tb; left:182px; top:1965px; width:444px; height:38px;\"><span style=\"font-family: Graphik-Regular; font-size:38px\">Responsive Web Design, \n",
              "<br></span></div><div style=\"position:absolute; border: textbox 1px solid; writing-mode:lr-tb; left:182px; top:2025px; width:386px; height:38px;\"><span style=\"font-family: Graphik-Regular; font-size:38px\">Mobile design, Visual \n",
              "<br></span></div><div style=\"position:absolute; border: textbox 1px solid; writing-mode:lr-tb; left:182px; top:2085px; width:402px; height:38px;\"><span style=\"font-family: Graphik-Regular; font-size:38px\">Design, game Design, \n",
              "<br></span></div><div style=\"position:absolute; border: textbox 1px solid; writing-mode:lr-tb; left:182px; top:2145px; width:187px; height:38px;\"><span style=\"font-family: Graphik-Regular; font-size:38px\">illustration\n",
              "<br></span></div><div style=\"position:absolute; border: textbox 1px solid; writing-mode:lr-tb; left:183px; top:2269px; width:145px; height:30px;\"><span style=\"font-family: Graphik-Regular; font-size:30px\">MethoDS\n",
              "<br></span></div><div style=\"position:absolute; border: textbox 1px solid; writing-mode:lr-tb; left:182px; top:2341px; width:503px; height:38px;\"><span style=\"font-family: Graphik-Regular; font-size:38px\">User Research, Competitive \n",
              "<br></span></div><div style=\"position:absolute; border: textbox 1px solid; writing-mode:lr-tb; left:182px; top:2401px; width:404px; height:38px;\"><span style=\"font-family: Graphik-Regular; font-size:38px\">Analysis, Wireframing, \n",
              "<br></span></div><div style=\"position:absolute; border: textbox 1px solid; writing-mode:lr-tb; left:182px; top:2461px; width:391px; height:38px;\"><span style=\"font-family: Graphik-Regular; font-size:38px\">Prototyping, Usability \n",
              "<br></span></div><div style=\"position:absolute; border: textbox 1px solid; writing-mode:lr-tb; left:182px; top:2521px; width:478px; height:38px;\"><span style=\"font-family: Graphik-Regular; font-size:38px\">testing, Statistical Analysis\n",
              "<br></span></div><div style=\"position:absolute; border: textbox 1px solid; writing-mode:lr-tb; left:980px; top:2519px; width:1346px; height:38px;\"><span style=\"font-family: Graphik-Regular; font-size:38px\">experience Design (A+), human Computer interaction (A+). </span><span style=\"font-family: Graphik-Medium; font-size:38px\">Awards</span><span style=\"font-family: Graphik-Regular; font-size:38px\">: </span><span style=\"font-family: Graphik-RegularItalic; font-size:38px\">Deans \n",
              "<br></span></div><div style=\"position:absolute; border: textbox 1px solid; writing-mode:lr-tb; left:980px; top:2579px; width:1346px; height:38px;\"><span style=\"font-family: Graphik-RegularItalic; font-size:38px\">List AY15/16 Semester II; Winner of SoC design competition; Three time prize \n",
              "<br></span></div><div style=\"position:absolute; border: textbox 1px solid; writing-mode:lr-tb; left:183px; top:2645px; width:99px; height:30px;\"><span style=\"font-family: Graphik-Regular; font-size:30px\">toolS\n",
              "<br></span></div><div style=\"position:absolute; border: textbox 1px solid; writing-mode:lr-tb; left:980px; top:2639px; width:1192px; height:38px;\"><span style=\"font-family: Graphik-RegularItalic; font-size:38px\">winner of SoC Term Project Showcase; FYP Innovation award finalist\n",
              "<br></span></div><div style=\"position:absolute; border: textbox 1px solid; writing-mode:lr-tb; left:182px; top:2716px; width:397px; height:38px;\"><span style=\"font-family: Graphik-Regular; font-size:38px\">Adobe Creative Suite, \n",
              "<br></span></div><div style=\"position:absolute; border: textbox 1px solid; writing-mode:lr-tb; left:182px; top:2776px; width:476px; height:38px;\"><span style=\"font-family: Graphik-Regular; font-size:38px\">Sketch, Principle, invision, \n",
              "<br></span></div><div style=\"position:absolute; border: textbox 1px solid; writing-mode:lr-tb; left:182px; top:2836px; width:495px; height:38px;\"><span style=\"font-family: Graphik-Regular; font-size:38px\">Balsamiq, R Studio, Cogtool\n",
              "<br></span></div><div style=\"position:absolute; border: textbox 1px solid; writing-mode:lr-tb; left:183px; top:2960px; width:231px; height:30px;\"><span style=\"font-family: Graphik-Regular; font-size:30px\">teChnologieS\n",
              "<br></span></div><div style=\"position:absolute; border: textbox 1px solid; writing-mode:lr-tb; left:182px; top:3032px; width:422px; height:38px;\"><span style=\"font-family: Graphik-Regular; font-size:38px\">htMl, CSS, JavaScript, \n",
              "<br></span></div><div style=\"position:absolute; border: textbox 1px solid; writing-mode:lr-tb; left:182px; top:3092px; width:486px; height:38px;\"><span style=\"font-family: Graphik-Regular; font-size:38px\">C++, Java, JQuery, Angular, \n",
              "<br></span></div><div style=\"position:absolute; border: textbox 1px solid; writing-mode:lr-tb; left:182px; top:3152px; width:457px; height:38px;\"><span style=\"font-family: Graphik-Regular; font-size:38px\">React, ionic, grunt, gulp, \n",
              "<br></span></div><div style=\"position:absolute; border: textbox 1px solid; writing-mode:lr-tb; left:182px; top:3212px; width:313px; height:38px;\"><span style=\"font-family: Graphik-Regular; font-size:38px\">Qt, SQl, Firebase\n",
              "<br></span></div><div style=\"position:absolute; border: textbox 1px solid; writing-mode:lr-tb; left:980px; top:2816px; width:221px; height:36px;\"><span style=\"font-family: SofiaProBold; font-size:36px\">PROJECTS\n",
              "<br></span></div><div style=\"position:absolute; border: textbox 1px solid; writing-mode:lr-tb; left:980px; top:2969px; width:1091px; height:48px;\"><span style=\"font-family: Graphik-Bold; font-size:45px\">Nibble</span><span style=\"font-family: MinionPro-Regular; font-size:36px\">  </span><span style=\"font-family: Graphik-Regular; font-size:45px\">— Food logging App, Final Year Dissertation\n",
              "<br></span></div><div style=\"position:absolute; border: textbox 1px solid; writing-mode:lr-tb; left:980px; top:3046px; width:1346px; height:38px;\"><span style=\"font-family: Graphik-Regular; font-size:38px\">Designed and coded a food logging app proven to improve users’ diets; \n",
              "<br></span></div><div style=\"position:absolute; border: textbox 1px solid; writing-mode:lr-tb; left:980px; top:3106px; width:1346px; height:38px;\"><span style=\"font-family: Graphik-Regular; font-size:38px\">Conducted surveys, competitive analysis, efficiency analysis and a literature \n",
              "<br></span></div><div style=\"position:absolute; border: textbox 1px solid; writing-mode:lr-tb; left:980px; top:3166px; width:1346px; height:38px;\"><span style=\"font-family: Graphik-Regular; font-size:38px\">review; Deployed two iterative usability studies on the app and analyzed \n",
              "<br></span></div><div style=\"position:absolute; border: textbox 1px solid; writing-mode:lr-tb; left:980px; top:3226px; width:418px; height:38px;\"><span style=\"font-family: Graphik-Regular; font-size:38px\">results with excel and R\n",
              "<br></span></div><span style=\"position:absolute; border: black 1px solid; left:0px; top:50px; width:820px; height:3508px;\"></span>\n",
              "<span style=\"position:absolute; border: black 1px solid; left:0px; top:50px; width:2480px; height:24px;\"></span>\n",
              "<span style=\"position:absolute; border: black 1px solid; left:0px; top:3534px; width:2480px; height:24px;\"></span>\n",
              "<div style=\"position:absolute; border: figure 1px solid; writing-mode:False; left:195px; top:329px; width:429px; height:501px;\"></div><span style=\"position:absolute; border: black 1px solid; left:186px; top:1142px; width:441px; height:101px;\"></span>\n",
              "<span style=\"position:absolute; border: black 1px solid; left:182px; top:1813px; width:55px; height:9px;\"></span>\n",
              "<span style=\"position:absolute; border: black 1px solid; left:984px; top:403px; width:55px; height:9px;\"></span>\n",
              "<span style=\"position:absolute; border: black 1px solid; left:984px; top:2170px; width:55px; height:9px;\"></span>\n",
              "<span style=\"position:absolute; border: black 1px solid; left:984px; top:2884px; width:55px; height:9px;\"></span>\n",
              "<div style=\"position:absolute; top:0px;\">Page: <a href=\"#1\">1</a></div>\n",
              "</body></html>\n"
            ]
          },
          "metadata": {},
          "execution_count": 7
        }
      ]
    },
    {
      "cell_type": "code",
      "source": [
        "html_resume"
      ],
      "metadata": {
        "id": "eHRRfkJlMUUw",
        "colab": {
          "base_uri": "https://localhost:8080/",
          "height": 140
        },
        "outputId": "e18575db-5c0e-4488-ef9f-70f776868cee"
      },
      "execution_count": 8,
      "outputs": [
        {
          "output_type": "execute_result",
          "data": {
            "text/plain": [
              "'<html><head>\\n<meta http-equiv=\"Content-Type\" content=\"text/html; charset=utf-8\">\\n</head><body>\\n<span style=\"position:absolute; border: gray 1px solid; left:0px; top:50px; width:2480px; height:3508px;\"></span>\\n<div style=\"position:absolute; top:50px;\"><a name=\"1\">Page 1</a></div>\\n<div style=\"position:absolute; border: textbox 1px solid; writing-mode:lr-tb; left:981px; top:332px; width:277px; height:36px;\"><span style=\"font-family: SofiaProBold; font-size:36px\">EXPERIENCE\\n<br></span></div><div style=\"position:absolute; border: textbox 1px solid; writing-mode:lr-tb; left:981px; top:492px; width:859px; height:101px;\"><span style=\"font-family: Graphik-Bold; font-size:45px\">Google</span><span style=\"font-family: MinionPro-Regular; font-size:48px\"> </span><span style=\"font-family: Graphik-Regular; font-size:45px\">— User experience Design intern\\n<br></span><span style=\"font-family: Graphik-Regular; font-size:30px\">MAY 2016 - PRESENT\\n<br></span></div><div style=\"position:absolute; border: textbox 1px solid; writing-mode:lr-tb; left:981px; top:636px; width:1346px; height:38px;\"><span style=\"font-family: Graphik-Regular; font-size:38px\">Bridging the world - collaborating with designers, engineers and product \\n<br></span></div><div style=\"position:absolute; border: textbox 1px solid; writing-mode:lr-tb; left:981px; top:696px; width:1144px; height:38px;\"><span style=\"font-family: Graphik-Regular; font-size:38px\">managers to build an improved experience for google translate.\\n<br></span></div><div style=\"position:absolute; border: textbox 1px solid; writing-mode:lr-tb; left:981px; top:842px; width:1025px; height:45px;\"><span style=\"font-family: Graphik-Bold; font-size:45px\">NUS School of Computing </span><span style=\"font-family: Graphik-Regular; font-size:45px\">— teaching Assistant\\n<br></span></div><div style=\"position:absolute; border: textbox 1px solid; writing-mode:lr-tb; left:981px; top:914px; width:299px; height:30px;\"><span style=\"font-family: Graphik-Regular; font-size:30px\">DEC 2015 - MAY 2016\\n<br></span></div><div style=\"position:absolute; border: textbox 1px solid; writing-mode:lr-tb; left:981px; top:986px; width:1346px; height:38px;\"><span style=\"font-family: Graphik-Regular; font-size:38px\">Collaborated with the lecturer to craft a new syllabus for User interface \\n<br></span></div><div style=\"position:absolute; border: textbox 1px solid; writing-mode:lr-tb; left:981px; top:1046px; width:1346px; height:38px;\"><span style=\"font-family: Graphik-Regular; font-size:38px\">Development; Conducted lectures on responsive design and best web \\n<br></span></div><div style=\"position:absolute; border: textbox 1px solid; writing-mode:lr-tb; left:981px; top:1106px; width:1093px; height:38px;\"><span style=\"font-family: Graphik-Regular; font-size:38px\">practices to 50+ students and held one-on-one help sessions.\\n<br></span></div><div style=\"position:absolute; border: textbox 1px solid; writing-mode:lr-tb; left:980px; top:1252px; width:601px; height:45px;\"><span style=\"font-family: Graphik-Bold; font-size:45px\">IDA </span><span style=\"font-family: Graphik-Regular; font-size:45px\">— Product Design intern\\n<br></span></div><div style=\"position:absolute; border: textbox 1px solid; writing-mode:lr-tb; left:981px; top:1324px; width:299px; height:30px;\"><span style=\"font-family: Graphik-Regular; font-size:30px\">DEC 2015 - MAY 2016\\n<br></span></div><div style=\"position:absolute; border: textbox 1px solid; writing-mode:lr-tb; left:980px; top:1396px; width:1346px; height:38px;\"><span style=\"font-family: Graphik-Regular; font-size:38px\">Worked with an agile team to build a streamlined grant application system \\n<br></span></div><div style=\"position:absolute; border: textbox 1px solid; writing-mode:lr-tb; left:980px; top:1456px; width:1346px; height:38px;\"><span style=\"font-family: Graphik-Regular; font-size:38px\">to benefit thousands of local businesses; Presented usability improvements; \\n<br></span></div><div style=\"position:absolute; border: textbox 1px solid; writing-mode:lr-tb; left:980px; top:1516px; width:1346px; height:38px;\"><span style=\"font-family: Graphik-Regular; font-size:38px\">Created high fidelity mockups; Conducted user studies; Pioneered developer \\n<br></span></div><div style=\"position:absolute; border: textbox 1px solid; writing-mode:lr-tb; left:980px; top:1576px; width:840px; height:38px;\"><span style=\"font-family: Graphik-Regular; font-size:38px\">documentation in a fast-growing 50-man team.\\n<br></span></div><div style=\"position:absolute; border: textbox 1px solid; writing-mode:lr-tb; left:980px; top:1722px; width:882px; height:101px;\"><span style=\"font-family: Graphik-Bold; font-size:45px\">PACIS</span><span style=\"font-family: MinionPro-Regular; font-size:36px\"> </span><span style=\"font-family: Graphik-Regular; font-size:45px\">— Product Designer and Developer\\n<br></span><span style=\"font-family: Graphik-Regular; font-size:30px\">JUN 2014 – JUL 2015\\n<br></span></div><div style=\"position:absolute; border: textbox 1px solid; writing-mode:lr-tb; left:981px; top:1866px; width:1346px; height:38px;\"><span style=\"font-family: Graphik-Regular; font-size:38px\">Did branding, design and development work for the 19th Pacific Asia \\n<br></span></div><div style=\"position:absolute; border: textbox 1px solid; writing-mode:lr-tb; left:981px; top:1926px; width:1224px; height:38px;\"><span style=\"font-family: Graphik-Regular; font-size:38px\">Conference on Information Systems’ official website and mobile app.\\n<br></span></div><div style=\"position:absolute; border: textbox 1px solid; writing-mode:lr-tb; left:980px; top:2102px; width:259px; height:36px;\"><span style=\"font-family: SofiaProBold; font-size:36px\">EDUCATION\\n<br></span></div><div style=\"position:absolute; border: textbox 1px solid; writing-mode:lr-tb; left:980px; top:2255px; width:1069px; height:45px;\"><span style=\"font-family: Graphik-Bold; font-size:45px\">National University of Singapore</span><span style=\"font-family: Graphik-Regular; font-size:45px\"> — B. Computing\\n<br></span></div><div style=\"position:absolute; border: textbox 1px solid; writing-mode:lr-tb; left:981px; top:2327px; width:160px; height:30px;\"><span style=\"font-family: Graphik-Regular; font-size:30px\">2012 - 2016\\n<br></span></div><div style=\"position:absolute; border: textbox 1px solid; writing-mode:lr-tb; left:980px; top:2399px; width:1346px; height:38px;\"><span style=\"font-family: Graphik-Regular; font-size:38px\">Bachelor of Computing (honours with Distinction) in Communications and \\n<br></span></div><div style=\"position:absolute; border: textbox 1px solid; writing-mode:lr-tb; left:980px; top:2459px; width:1346px; height:38px;\"><span style=\"font-family: Graphik-Regular; font-size:38px\">Media. </span><span style=\"font-family: Graphik-Medium; font-size:38px\">Distinctions</span><span style=\"font-family: Graphik-Regular; font-size:38px\">: Software engineering (A), interaction Design (A+), User \\n<br></span></div><div style=\"position:absolute; border: textbox 1px solid; writing-mode:lr-tb; left:186px; top:938px; width:446px; height:95px;\"><span style=\"font-family: SofiaProBold; font-size:95px\">xinni chng\\n<br></span></div><div style=\"position:absolute; border: textbox 1px solid; writing-mode:lr-tb; left:186px; top:1052px; width:445px; height:30px;\"><span style=\"font-family: Graphik-Light; font-size:30px\">USER EXPERIENCE DESIGNER\\n<br></span></div><div style=\"position:absolute; border: textbox 1px solid; writing-mode:lr-tb; left:263px; top:1176px; width:283px; height:40px;\"><span style=\"font-family: Graphik-Medium; font-size:40px\">http://xinni.co\\n<br></span></div><div style=\"position:absolute; border: textbox 1px solid; writing-mode:lr-tb; left:187px; top:1314px; width:27px; height:48px;\"><span style=\"font-family: FontAwesome; font-size:48px\">\\uf041\\n<br></span></div><div style=\"position:absolute; border: textbox 1px solid; writing-mode:lr-tb; left:186px; top:1386px; width:40px; height:109px;\"><span style=\"font-family: FontAwesome; font-size:48px\">\\uf095\\n<br></span><span style=\"font-family: FontAwesome; font-size:40px\">\\uf0e0\\n<br></span></div><div style=\"position:absolute; border: textbox 1px solid; writing-mode:lr-tb; left:263px; top:1321px; width:221px; height:40px;\"><span style=\"font-family: Graphik-Regular; font-size:40px\">SF Bay Area\\n<br></span></div><div style=\"position:absolute; border: textbox 1px solid; writing-mode:lr-tb; left:263px; top:1389px; width:279px; height:40px;\"><span style=\"font-family: Graphik-Regular; font-size:40px\">(669) 262-8183\\n<br></span></div><div style=\"position:absolute; border: textbox 1px solid; writing-mode:lr-tb; left:263px; top:1457px; width:273px; height:40px;\"><span style=\"font-family: Graphik-Regular; font-size:40px\">hello@xinni.co\\n<br></span></div><div style=\"position:absolute; border: textbox 1px solid; writing-mode:lr-tb; left:182px; top:1745px; width:147px; height:36px;\"><span style=\"font-family: SofiaProBold; font-size:36px\">SKILLS\\n<br></span></div><div style=\"position:absolute; border: textbox 1px solid; writing-mode:lr-tb; left:183px; top:1894px; width:110px; height:30px;\"><span style=\"font-family: Graphik-Regular; font-size:30px\">DeSign\\n<br></span></div><div style=\"position:absolute; border: textbox 1px solid; writing-mode:lr-tb; left:182px; top:1965px; width:444px; height:38px;\"><span style=\"font-family: Graphik-Regular; font-size:38px\">Responsive Web Design, \\n<br></span></div><div style=\"position:absolute; border: textbox 1px solid; writing-mode:lr-tb; left:182px; top:2025px; width:386px; height:38px;\"><span style=\"font-family: Graphik-Regular; font-size:38px\">Mobile design, Visual \\n<br></span></div><div style=\"position:absolute; border: textbox 1px solid; writing-mode:lr-tb; left:182px; top:2085px; width:402px; height:38px;\"><span style=\"font-family: Graphik-Regular; font-size:38px\">Design, game Design, \\n<br></span></div><div style=\"position:absolute; border: textbox 1px solid; writing-mode:lr-tb; left:182px; top:2145px; width:187px; height:38px;\"><span style=\"font-family: Graphik-Regular; font-size:38px\">illustration\\n<br></span></div><div style=\"position:absolute; border: textbox 1px solid; writing-mode:lr-tb; left:183px; top:2269px; width:145px; height:30px;\"><span style=\"font-family: Graphik-Regular; font-size:30px\">MethoDS\\n<br></span></div><div style=\"position:absolute; border: textbox 1px solid; writing-mode:lr-tb; left:182px; top:2341px; width:503px; height:38px;\"><span style=\"font-family: Graphik-Regular; font-size:38px\">User Research, Competitive \\n<br></span></div><div style=\"position:absolute; border: textbox 1px solid; writing-mode:lr-tb; left:182px; top:2401px; width:404px; height:38px;\"><span style=\"font-family: Graphik-Regular; font-size:38px\">Analysis, Wireframing, \\n<br></span></div><div style=\"position:absolute; border: textbox 1px solid; writing-mode:lr-tb; left:182px; top:2461px; width:391px; height:38px;\"><span style=\"font-family: Graphik-Regular; font-size:38px\">Prototyping, Usability \\n<br></span></div><div style=\"position:absolute; border: textbox 1px solid; writing-mode:lr-tb; left:182px; top:2521px; width:478px; height:38px;\"><span style=\"font-family: Graphik-Regular; font-size:38px\">testing, Statistical Analysis\\n<br></span></div><div style=\"position:absolute; border: textbox 1px solid; writing-mode:lr-tb; left:980px; top:2519px; width:1346px; height:38px;\"><span style=\"font-family: Graphik-Regular; font-size:38px\">experience Design (A+), human Computer interaction (A+). </span><span style=\"font-family: Graphik-Medium; font-size:38px\">Awards</span><span style=\"font-family: Graphik-Regular; font-size:38px\">: </span><span style=\"font-family: Graphik-RegularItalic; font-size:38px\">Deans \\n<br></span></div><div style=\"position:absolute; border: textbox 1px solid; writing-mode:lr-tb; left:980px; top:2579px; width:1346px; height:38px;\"><span style=\"font-family: Graphik-RegularItalic; font-size:38px\">List AY15/16 Semester II; Winner of SoC design competition; Three time prize \\n<br></span></div><div style=\"position:absolute; border: textbox 1px solid; writing-mode:lr-tb; left:183px; top:2645px; width:99px; height:30px;\"><span style=\"font-family: Graphik-Regular; font-size:30px\">toolS\\n<br></span></div><div style=\"position:absolute; border: textbox 1px solid; writing-mode:lr-tb; left:980px; top:2639px; width:1192px; height:38px;\"><span style=\"font-family: Graphik-RegularItalic; font-size:38px\">winner of SoC Term Project Showcase; FYP Innovation award finalist\\n<br></span></div><div style=\"position:absolute; border: textbox 1px solid; writing-mode:lr-tb; left:182px; top:2716px; width:397px; height:38px;\"><span style=\"font-family: Graphik-Regular; font-size:38px\">Adobe Creative Suite, \\n<br></span></div><div style=\"position:absolute; border: textbox 1px solid; writing-mode:lr-tb; left:182px; top:2776px; width:476px; height:38px;\"><span style=\"font-family: Graphik-Regular; font-size:38px\">Sketch, Principle, invision, \\n<br></span></div><div style=\"position:absolute; border: textbox 1px solid; writing-mode:lr-tb; left:182px; top:2836px; width:495px; height:38px;\"><span style=\"font-family: Graphik-Regular; font-size:38px\">Balsamiq, R Studio, Cogtool\\n<br></span></div><div style=\"position:absolute; border: textbox 1px solid; writing-mode:lr-tb; left:183px; top:2960px; width:231px; height:30px;\"><span style=\"font-family: Graphik-Regular; font-size:30px\">teChnologieS\\n<br></span></div><div style=\"position:absolute; border: textbox 1px solid; writing-mode:lr-tb; left:182px; top:3032px; width:422px; height:38px;\"><span style=\"font-family: Graphik-Regular; font-size:38px\">htMl, CSS, JavaScript, \\n<br></span></div><div style=\"position:absolute; border: textbox 1px solid; writing-mode:lr-tb; left:182px; top:3092px; width:486px; height:38px;\"><span style=\"font-family: Graphik-Regular; font-size:38px\">C++, Java, JQuery, Angular, \\n<br></span></div><div style=\"position:absolute; border: textbox 1px solid; writing-mode:lr-tb; left:182px; top:3152px; width:457px; height:38px;\"><span style=\"font-family: Graphik-Regular; font-size:38px\">React, ionic, grunt, gulp, \\n<br></span></div><div style=\"position:absolute; border: textbox 1px solid; writing-mode:lr-tb; left:182px; top:3212px; width:313px; height:38px;\"><span style=\"font-family: Graphik-Regular; font-size:38px\">Qt, SQl, Firebase\\n<br></span></div><div style=\"position:absolute; border: textbox 1px solid; writing-mode:lr-tb; left:980px; top:2816px; width:221px; height:36px;\"><span style=\"font-family: SofiaProBold; font-size:36px\">PROJECTS\\n<br></span></div><div style=\"position:absolute; border: textbox 1px solid; writing-mode:lr-tb; left:980px; top:2969px; width:1091px; height:48px;\"><span style=\"font-family: Graphik-Bold; font-size:45px\">Nibble</span><span style=\"font-family: MinionPro-Regular; font-size:36px\">  </span><span style=\"font-family: Graphik-Regular; font-size:45px\">— Food logging App, Final Year Dissertation\\n<br></span></div><div style=\"position:absolute; border: textbox 1px solid; writing-mode:lr-tb; left:980px; top:3046px; width:1346px; height:38px;\"><span style=\"font-family: Graphik-Regular; font-size:38px\">Designed and coded a food logging app proven to improve users’ diets; \\n<br></span></div><div style=\"position:absolute; border: textbox 1px solid; writing-mode:lr-tb; left:980px; top:3106px; width:1346px; height:38px;\"><span style=\"font-family: Graphik-Regular; font-size:38px\">Conducted surveys, competitive analysis, efficiency analysis and a literature \\n<br></span></div><div style=\"position:absolute; border: textbox 1px solid; writing-mode:lr-tb; left:980px; top:3166px; width:1346px; height:38px;\"><span style=\"font-family: Graphik-Regular; font-size:38px\">review; Deployed two iterative usability studies on the app and analyzed \\n<br></span></div><div style=\"position:absolute; border: textbox 1px solid; writing-mode:lr-tb; left:980px; top:3226px; width:418px; height:38px;\"><span style=\"font-family: Graphik-Regular; font-size:38px\">results with excel and R\\n<br></span></div><span style=\"position:absolute; border: black 1px solid; left:0px; top:50px; width:820px; height:3508px;\"></span>\\n<span style=\"position:absolute; border: black 1px solid; left:0px; top:50px; width:2480px; height:24px;\"></span>\\n<span style=\"position:absolute; border: black 1px solid; left:0px; top:3534px; width:2480px; height:24px;\"></span>\\n<div style=\"position:absolute; border: figure 1px solid; writing-mode:False; left:195px; top:329px; width:429px; height:501px;\"></div><span style=\"position:absolute; border: black 1px solid; left:186px; top:1142px; width:441px; height:101px;\"></span>\\n<span style=\"position:absolute; border: black 1px solid; left:182px; top:1813px; width:55px; height:9px;\"></span>\\n<span style=\"position:absolute; border: black 1px solid; left:984px; top:403px; width:55px; height:9px;\"></span>\\n<span style=\"position:absolute; border: black 1px solid; left:984px; top:2170px; width:55px; height:9px;\"></span>\\n<span style=\"position:absolute; border: black 1px solid; left:984px; top:2884px; width:55px; height:9px;\"></span>\\n<div style=\"position:absolute; top:0px;\">Page: <a href=\"#1\">1</a></div>\\n</body></html>\\n'"
            ],
            "application/vnd.google.colaboratory.intrinsic+json": {
              "type": "string"
            }
          },
          "metadata": {},
          "execution_count": 8
        }
      ]
    },
    {
      "cell_type": "markdown",
      "source": [
        "Parsing the html using BeautifulSoup"
      ],
      "metadata": {
        "id": "JFO61j5Q1NKZ"
      }
    },
    {
      "cell_type": "code",
      "source": [
        "pip install beautifulsoup4"
      ],
      "metadata": {
        "colab": {
          "base_uri": "https://localhost:8080/"
        },
        "id": "p1LtOEtoyMFB",
        "outputId": "2db5e896-881e-465f-fbfb-dd211940b5c9"
      },
      "execution_count": 9,
      "outputs": [
        {
          "output_type": "stream",
          "name": "stdout",
          "text": [
            "Requirement already satisfied: beautifulsoup4 in /usr/local/lib/python3.10/dist-packages (4.11.2)\n",
            "Requirement already satisfied: soupsieve>1.2 in /usr/local/lib/python3.10/dist-packages (from beautifulsoup4) (2.5)\n"
          ]
        }
      ]
    },
    {
      "cell_type": "code",
      "source": [
        "from bs4 import BeautifulSoup\n",
        "# Parsing the HTML content using BeautifulSoup\n",
        "soup = BeautifulSoup(html_resume, 'html.parser')"
      ],
      "metadata": {
        "id": "goPqLzPU3WxR"
      },
      "execution_count": 10,
      "outputs": []
    },
    {
      "cell_type": "code",
      "source": [
        "soup"
      ],
      "metadata": {
        "colab": {
          "base_uri": "https://localhost:8080/"
        },
        "id": "Ua8WIb5v4-bb",
        "outputId": "1bc0cb47-d11d-4bc6-c68b-562ba7aeb1dc"
      },
      "execution_count": 11,
      "outputs": [
        {
          "output_type": "execute_result",
          "data": {
            "text/plain": [
              "<html><head>\n",
              "<meta content=\"text/html; charset=utf-8\" http-equiv=\"Content-Type\"/>\n",
              "</head><body>\n",
              "<span style=\"position:absolute; border: gray 1px solid; left:0px; top:50px; width:2480px; height:3508px;\"></span>\n",
              "<div style=\"position:absolute; top:50px;\"><a name=\"1\">Page 1</a></div>\n",
              "<div style=\"position:absolute; border: textbox 1px solid; writing-mode:lr-tb; left:981px; top:332px; width:277px; height:36px;\"><span style=\"font-family: SofiaProBold; font-size:36px\">EXPERIENCE\n",
              "<br/></span></div><div style=\"position:absolute; border: textbox 1px solid; writing-mode:lr-tb; left:981px; top:492px; width:859px; height:101px;\"><span style=\"font-family: Graphik-Bold; font-size:45px\">Google</span><span style=\"font-family: MinionPro-Regular; font-size:48px\"> </span><span style=\"font-family: Graphik-Regular; font-size:45px\">— User experience Design intern\n",
              "<br/></span><span style=\"font-family: Graphik-Regular; font-size:30px\">MAY 2016 - PRESENT\n",
              "<br/></span></div><div style=\"position:absolute; border: textbox 1px solid; writing-mode:lr-tb; left:981px; top:636px; width:1346px; height:38px;\"><span style=\"font-family: Graphik-Regular; font-size:38px\">Bridging the world - collaborating with designers, engineers and product \n",
              "<br/></span></div><div style=\"position:absolute; border: textbox 1px solid; writing-mode:lr-tb; left:981px; top:696px; width:1144px; height:38px;\"><span style=\"font-family: Graphik-Regular; font-size:38px\">managers to build an improved experience for google translate.\n",
              "<br/></span></div><div style=\"position:absolute; border: textbox 1px solid; writing-mode:lr-tb; left:981px; top:842px; width:1025px; height:45px;\"><span style=\"font-family: Graphik-Bold; font-size:45px\">NUS School of Computing </span><span style=\"font-family: Graphik-Regular; font-size:45px\">— teaching Assistant\n",
              "<br/></span></div><div style=\"position:absolute; border: textbox 1px solid; writing-mode:lr-tb; left:981px; top:914px; width:299px; height:30px;\"><span style=\"font-family: Graphik-Regular; font-size:30px\">DEC 2015 - MAY 2016\n",
              "<br/></span></div><div style=\"position:absolute; border: textbox 1px solid; writing-mode:lr-tb; left:981px; top:986px; width:1346px; height:38px;\"><span style=\"font-family: Graphik-Regular; font-size:38px\">Collaborated with the lecturer to craft a new syllabus for User interface \n",
              "<br/></span></div><div style=\"position:absolute; border: textbox 1px solid; writing-mode:lr-tb; left:981px; top:1046px; width:1346px; height:38px;\"><span style=\"font-family: Graphik-Regular; font-size:38px\">Development; Conducted lectures on responsive design and best web \n",
              "<br/></span></div><div style=\"position:absolute; border: textbox 1px solid; writing-mode:lr-tb; left:981px; top:1106px; width:1093px; height:38px;\"><span style=\"font-family: Graphik-Regular; font-size:38px\">practices to 50+ students and held one-on-one help sessions.\n",
              "<br/></span></div><div style=\"position:absolute; border: textbox 1px solid; writing-mode:lr-tb; left:980px; top:1252px; width:601px; height:45px;\"><span style=\"font-family: Graphik-Bold; font-size:45px\">IDA </span><span style=\"font-family: Graphik-Regular; font-size:45px\">— Product Design intern\n",
              "<br/></span></div><div style=\"position:absolute; border: textbox 1px solid; writing-mode:lr-tb; left:981px; top:1324px; width:299px; height:30px;\"><span style=\"font-family: Graphik-Regular; font-size:30px\">DEC 2015 - MAY 2016\n",
              "<br/></span></div><div style=\"position:absolute; border: textbox 1px solid; writing-mode:lr-tb; left:980px; top:1396px; width:1346px; height:38px;\"><span style=\"font-family: Graphik-Regular; font-size:38px\">Worked with an agile team to build a streamlined grant application system \n",
              "<br/></span></div><div style=\"position:absolute; border: textbox 1px solid; writing-mode:lr-tb; left:980px; top:1456px; width:1346px; height:38px;\"><span style=\"font-family: Graphik-Regular; font-size:38px\">to benefit thousands of local businesses; Presented usability improvements; \n",
              "<br/></span></div><div style=\"position:absolute; border: textbox 1px solid; writing-mode:lr-tb; left:980px; top:1516px; width:1346px; height:38px;\"><span style=\"font-family: Graphik-Regular; font-size:38px\">Created high fidelity mockups; Conducted user studies; Pioneered developer \n",
              "<br/></span></div><div style=\"position:absolute; border: textbox 1px solid; writing-mode:lr-tb; left:980px; top:1576px; width:840px; height:38px;\"><span style=\"font-family: Graphik-Regular; font-size:38px\">documentation in a fast-growing 50-man team.\n",
              "<br/></span></div><div style=\"position:absolute; border: textbox 1px solid; writing-mode:lr-tb; left:980px; top:1722px; width:882px; height:101px;\"><span style=\"font-family: Graphik-Bold; font-size:45px\">PACIS</span><span style=\"font-family: MinionPro-Regular; font-size:36px\"> </span><span style=\"font-family: Graphik-Regular; font-size:45px\">— Product Designer and Developer\n",
              "<br/></span><span style=\"font-family: Graphik-Regular; font-size:30px\">JUN 2014 – JUL 2015\n",
              "<br/></span></div><div style=\"position:absolute; border: textbox 1px solid; writing-mode:lr-tb; left:981px; top:1866px; width:1346px; height:38px;\"><span style=\"font-family: Graphik-Regular; font-size:38px\">Did branding, design and development work for the 19th Pacific Asia \n",
              "<br/></span></div><div style=\"position:absolute; border: textbox 1px solid; writing-mode:lr-tb; left:981px; top:1926px; width:1224px; height:38px;\"><span style=\"font-family: Graphik-Regular; font-size:38px\">Conference on Information Systems’ official website and mobile app.\n",
              "<br/></span></div><div style=\"position:absolute; border: textbox 1px solid; writing-mode:lr-tb; left:980px; top:2102px; width:259px; height:36px;\"><span style=\"font-family: SofiaProBold; font-size:36px\">EDUCATION\n",
              "<br/></span></div><div style=\"position:absolute; border: textbox 1px solid; writing-mode:lr-tb; left:980px; top:2255px; width:1069px; height:45px;\"><span style=\"font-family: Graphik-Bold; font-size:45px\">National University of Singapore</span><span style=\"font-family: Graphik-Regular; font-size:45px\"> — B. Computing\n",
              "<br/></span></div><div style=\"position:absolute; border: textbox 1px solid; writing-mode:lr-tb; left:981px; top:2327px; width:160px; height:30px;\"><span style=\"font-family: Graphik-Regular; font-size:30px\">2012 - 2016\n",
              "<br/></span></div><div style=\"position:absolute; border: textbox 1px solid; writing-mode:lr-tb; left:980px; top:2399px; width:1346px; height:38px;\"><span style=\"font-family: Graphik-Regular; font-size:38px\">Bachelor of Computing (honours with Distinction) in Communications and \n",
              "<br/></span></div><div style=\"position:absolute; border: textbox 1px solid; writing-mode:lr-tb; left:980px; top:2459px; width:1346px; height:38px;\"><span style=\"font-family: Graphik-Regular; font-size:38px\">Media. </span><span style=\"font-family: Graphik-Medium; font-size:38px\">Distinctions</span><span style=\"font-family: Graphik-Regular; font-size:38px\">: Software engineering (A), interaction Design (A+), User \n",
              "<br/></span></div><div style=\"position:absolute; border: textbox 1px solid; writing-mode:lr-tb; left:186px; top:938px; width:446px; height:95px;\"><span style=\"font-family: SofiaProBold; font-size:95px\">xinni chng\n",
              "<br/></span></div><div style=\"position:absolute; border: textbox 1px solid; writing-mode:lr-tb; left:186px; top:1052px; width:445px; height:30px;\"><span style=\"font-family: Graphik-Light; font-size:30px\">USER EXPERIENCE DESIGNER\n",
              "<br/></span></div><div style=\"position:absolute; border: textbox 1px solid; writing-mode:lr-tb; left:263px; top:1176px; width:283px; height:40px;\"><span style=\"font-family: Graphik-Medium; font-size:40px\">http://xinni.co\n",
              "<br/></span></div><div style=\"position:absolute; border: textbox 1px solid; writing-mode:lr-tb; left:187px; top:1314px; width:27px; height:48px;\"><span style=\"font-family: FontAwesome; font-size:48px\">\n",
              "<br/></span></div><div style=\"position:absolute; border: textbox 1px solid; writing-mode:lr-tb; left:186px; top:1386px; width:40px; height:109px;\"><span style=\"font-family: FontAwesome; font-size:48px\">\n",
              "<br/></span><span style=\"font-family: FontAwesome; font-size:40px\">\n",
              "<br/></span></div><div style=\"position:absolute; border: textbox 1px solid; writing-mode:lr-tb; left:263px; top:1321px; width:221px; height:40px;\"><span style=\"font-family: Graphik-Regular; font-size:40px\">SF Bay Area\n",
              "<br/></span></div><div style=\"position:absolute; border: textbox 1px solid; writing-mode:lr-tb; left:263px; top:1389px; width:279px; height:40px;\"><span style=\"font-family: Graphik-Regular; font-size:40px\">(669) 262-8183\n",
              "<br/></span></div><div style=\"position:absolute; border: textbox 1px solid; writing-mode:lr-tb; left:263px; top:1457px; width:273px; height:40px;\"><span style=\"font-family: Graphik-Regular; font-size:40px\">hello@xinni.co\n",
              "<br/></span></div><div style=\"position:absolute; border: textbox 1px solid; writing-mode:lr-tb; left:182px; top:1745px; width:147px; height:36px;\"><span style=\"font-family: SofiaProBold; font-size:36px\">SKILLS\n",
              "<br/></span></div><div style=\"position:absolute; border: textbox 1px solid; writing-mode:lr-tb; left:183px; top:1894px; width:110px; height:30px;\"><span style=\"font-family: Graphik-Regular; font-size:30px\">DeSign\n",
              "<br/></span></div><div style=\"position:absolute; border: textbox 1px solid; writing-mode:lr-tb; left:182px; top:1965px; width:444px; height:38px;\"><span style=\"font-family: Graphik-Regular; font-size:38px\">Responsive Web Design, \n",
              "<br/></span></div><div style=\"position:absolute; border: textbox 1px solid; writing-mode:lr-tb; left:182px; top:2025px; width:386px; height:38px;\"><span style=\"font-family: Graphik-Regular; font-size:38px\">Mobile design, Visual \n",
              "<br/></span></div><div style=\"position:absolute; border: textbox 1px solid; writing-mode:lr-tb; left:182px; top:2085px; width:402px; height:38px;\"><span style=\"font-family: Graphik-Regular; font-size:38px\">Design, game Design, \n",
              "<br/></span></div><div style=\"position:absolute; border: textbox 1px solid; writing-mode:lr-tb; left:182px; top:2145px; width:187px; height:38px;\"><span style=\"font-family: Graphik-Regular; font-size:38px\">illustration\n",
              "<br/></span></div><div style=\"position:absolute; border: textbox 1px solid; writing-mode:lr-tb; left:183px; top:2269px; width:145px; height:30px;\"><span style=\"font-family: Graphik-Regular; font-size:30px\">MethoDS\n",
              "<br/></span></div><div style=\"position:absolute; border: textbox 1px solid; writing-mode:lr-tb; left:182px; top:2341px; width:503px; height:38px;\"><span style=\"font-family: Graphik-Regular; font-size:38px\">User Research, Competitive \n",
              "<br/></span></div><div style=\"position:absolute; border: textbox 1px solid; writing-mode:lr-tb; left:182px; top:2401px; width:404px; height:38px;\"><span style=\"font-family: Graphik-Regular; font-size:38px\">Analysis, Wireframing, \n",
              "<br/></span></div><div style=\"position:absolute; border: textbox 1px solid; writing-mode:lr-tb; left:182px; top:2461px; width:391px; height:38px;\"><span style=\"font-family: Graphik-Regular; font-size:38px\">Prototyping, Usability \n",
              "<br/></span></div><div style=\"position:absolute; border: textbox 1px solid; writing-mode:lr-tb; left:182px; top:2521px; width:478px; height:38px;\"><span style=\"font-family: Graphik-Regular; font-size:38px\">testing, Statistical Analysis\n",
              "<br/></span></div><div style=\"position:absolute; border: textbox 1px solid; writing-mode:lr-tb; left:980px; top:2519px; width:1346px; height:38px;\"><span style=\"font-family: Graphik-Regular; font-size:38px\">experience Design (A+), human Computer interaction (A+). </span><span style=\"font-family: Graphik-Medium; font-size:38px\">Awards</span><span style=\"font-family: Graphik-Regular; font-size:38px\">: </span><span style=\"font-family: Graphik-RegularItalic; font-size:38px\">Deans \n",
              "<br/></span></div><div style=\"position:absolute; border: textbox 1px solid; writing-mode:lr-tb; left:980px; top:2579px; width:1346px; height:38px;\"><span style=\"font-family: Graphik-RegularItalic; font-size:38px\">List AY15/16 Semester II; Winner of SoC design competition; Three time prize \n",
              "<br/></span></div><div style=\"position:absolute; border: textbox 1px solid; writing-mode:lr-tb; left:183px; top:2645px; width:99px; height:30px;\"><span style=\"font-family: Graphik-Regular; font-size:30px\">toolS\n",
              "<br/></span></div><div style=\"position:absolute; border: textbox 1px solid; writing-mode:lr-tb; left:980px; top:2639px; width:1192px; height:38px;\"><span style=\"font-family: Graphik-RegularItalic; font-size:38px\">winner of SoC Term Project Showcase; FYP Innovation award finalist\n",
              "<br/></span></div><div style=\"position:absolute; border: textbox 1px solid; writing-mode:lr-tb; left:182px; top:2716px; width:397px; height:38px;\"><span style=\"font-family: Graphik-Regular; font-size:38px\">Adobe Creative Suite, \n",
              "<br/></span></div><div style=\"position:absolute; border: textbox 1px solid; writing-mode:lr-tb; left:182px; top:2776px; width:476px; height:38px;\"><span style=\"font-family: Graphik-Regular; font-size:38px\">Sketch, Principle, invision, \n",
              "<br/></span></div><div style=\"position:absolute; border: textbox 1px solid; writing-mode:lr-tb; left:182px; top:2836px; width:495px; height:38px;\"><span style=\"font-family: Graphik-Regular; font-size:38px\">Balsamiq, R Studio, Cogtool\n",
              "<br/></span></div><div style=\"position:absolute; border: textbox 1px solid; writing-mode:lr-tb; left:183px; top:2960px; width:231px; height:30px;\"><span style=\"font-family: Graphik-Regular; font-size:30px\">teChnologieS\n",
              "<br/></span></div><div style=\"position:absolute; border: textbox 1px solid; writing-mode:lr-tb; left:182px; top:3032px; width:422px; height:38px;\"><span style=\"font-family: Graphik-Regular; font-size:38px\">htMl, CSS, JavaScript, \n",
              "<br/></span></div><div style=\"position:absolute; border: textbox 1px solid; writing-mode:lr-tb; left:182px; top:3092px; width:486px; height:38px;\"><span style=\"font-family: Graphik-Regular; font-size:38px\">C++, Java, JQuery, Angular, \n",
              "<br/></span></div><div style=\"position:absolute; border: textbox 1px solid; writing-mode:lr-tb; left:182px; top:3152px; width:457px; height:38px;\"><span style=\"font-family: Graphik-Regular; font-size:38px\">React, ionic, grunt, gulp, \n",
              "<br/></span></div><div style=\"position:absolute; border: textbox 1px solid; writing-mode:lr-tb; left:182px; top:3212px; width:313px; height:38px;\"><span style=\"font-family: Graphik-Regular; font-size:38px\">Qt, SQl, Firebase\n",
              "<br/></span></div><div style=\"position:absolute; border: textbox 1px solid; writing-mode:lr-tb; left:980px; top:2816px; width:221px; height:36px;\"><span style=\"font-family: SofiaProBold; font-size:36px\">PROJECTS\n",
              "<br/></span></div><div style=\"position:absolute; border: textbox 1px solid; writing-mode:lr-tb; left:980px; top:2969px; width:1091px; height:48px;\"><span style=\"font-family: Graphik-Bold; font-size:45px\">Nibble</span><span style=\"font-family: MinionPro-Regular; font-size:36px\"> </span><span style=\"font-family: Graphik-Regular; font-size:45px\">— Food logging App, Final Year Dissertation\n",
              "<br/></span></div><div style=\"position:absolute; border: textbox 1px solid; writing-mode:lr-tb; left:980px; top:3046px; width:1346px; height:38px;\"><span style=\"font-family: Graphik-Regular; font-size:38px\">Designed and coded a food logging app proven to improve users’ diets; \n",
              "<br/></span></div><div style=\"position:absolute; border: textbox 1px solid; writing-mode:lr-tb; left:980px; top:3106px; width:1346px; height:38px;\"><span style=\"font-family: Graphik-Regular; font-size:38px\">Conducted surveys, competitive analysis, efficiency analysis and a literature \n",
              "<br/></span></div><div style=\"position:absolute; border: textbox 1px solid; writing-mode:lr-tb; left:980px; top:3166px; width:1346px; height:38px;\"><span style=\"font-family: Graphik-Regular; font-size:38px\">review; Deployed two iterative usability studies on the app and analyzed \n",
              "<br/></span></div><div style=\"position:absolute; border: textbox 1px solid; writing-mode:lr-tb; left:980px; top:3226px; width:418px; height:38px;\"><span style=\"font-family: Graphik-Regular; font-size:38px\">results with excel and R\n",
              "<br/></span></div><span style=\"position:absolute; border: black 1px solid; left:0px; top:50px; width:820px; height:3508px;\"></span>\n",
              "<span style=\"position:absolute; border: black 1px solid; left:0px; top:50px; width:2480px; height:24px;\"></span>\n",
              "<span style=\"position:absolute; border: black 1px solid; left:0px; top:3534px; width:2480px; height:24px;\"></span>\n",
              "<div style=\"position:absolute; border: figure 1px solid; writing-mode:False; left:195px; top:329px; width:429px; height:501px;\"></div><span style=\"position:absolute; border: black 1px solid; left:186px; top:1142px; width:441px; height:101px;\"></span>\n",
              "<span style=\"position:absolute; border: black 1px solid; left:182px; top:1813px; width:55px; height:9px;\"></span>\n",
              "<span style=\"position:absolute; border: black 1px solid; left:984px; top:403px; width:55px; height:9px;\"></span>\n",
              "<span style=\"position:absolute; border: black 1px solid; left:984px; top:2170px; width:55px; height:9px;\"></span>\n",
              "<span style=\"position:absolute; border: black 1px solid; left:984px; top:2884px; width:55px; height:9px;\"></span>\n",
              "<div style=\"position:absolute; top:0px;\">Page: <a href=\"#1\">1</a></div>\n",
              "</body></html>"
            ]
          },
          "metadata": {},
          "execution_count": 11
        }
      ]
    },
    {
      "cell_type": "markdown",
      "source": [
        "Finding the font sizes of the required headings"
      ],
      "metadata": {
        "id": "K1RGchzTa-Iu"
      }
    },
    {
      "cell_type": "code",
      "source": [
        "def find_specific_heading_style(html_resume, headings):\n",
        "  '''Function to find the font style of the heading'''\n",
        "  # Parsing the HTML content\n",
        "  soup = BeautifulSoup(html_resume, 'html.parser')\n",
        "  heading_style = {}\n",
        "\n",
        "  # Iterating through all the <span> elements found in the HTML content\n",
        "  for each_span in soup.find_all('span'):\n",
        "        # Checking if the span contains any of the specified heading texts in a case-insensitive manner\n",
        "        span_text = each_span.get_text().strip().lower()\n",
        "        for heading in headings:\n",
        "            if heading in span_text:\n",
        "                # Extracting the font size\n",
        "                span_style = each_span.get('style')\n",
        "                heading_style[heading]=span_style\n",
        "  return heading_style"
      ],
      "metadata": {
        "id": "ByJeBjvy4_BI"
      },
      "execution_count": 12,
      "outputs": []
    },
    {
      "cell_type": "code",
      "source": [
        "# List of heading texts to search for\n",
        "headings = ['education', 'experience', 'skill','award','project','achievement','internhsip','activities','link','certification','language']"
      ],
      "metadata": {
        "id": "dr6I0-Jx9TlA"
      },
      "execution_count": 13,
      "outputs": []
    },
    {
      "cell_type": "code",
      "source": [
        "# Calling the function to find and print font sizes for the specified headings\n",
        "headings_style  = find_specific_heading_style(html_resume, headings)\n",
        "headings_style"
      ],
      "metadata": {
        "colab": {
          "base_uri": "https://localhost:8080/"
        },
        "id": "qOy6vIOj9YAY",
        "outputId": "6351e5c3-a86d-4a3c-feb0-2beecf16f415"
      },
      "execution_count": 14,
      "outputs": [
        {
          "output_type": "execute_result",
          "data": {
            "text/plain": [
              "{'experience': 'font-family: Graphik-Regular; font-size:38px',\n",
              " 'education': 'font-family: SofiaProBold; font-size:36px',\n",
              " 'skill': 'font-family: SofiaProBold; font-size:36px',\n",
              " 'award': 'font-family: Graphik-RegularItalic; font-size:38px',\n",
              " 'project': 'font-family: SofiaProBold; font-size:36px'}"
            ]
          },
          "metadata": {},
          "execution_count": 14
        }
      ]
    },
    {
      "cell_type": "markdown",
      "source": [
        "Finding the text of the education heading"
      ],
      "metadata": {
        "id": "oIjLDu2VqNbt"
      }
    },
    {
      "cell_type": "code",
      "source": [
        "education_style = headings_style['education']\n",
        "education_style"
      ],
      "metadata": {
        "colab": {
          "base_uri": "https://localhost:8080/",
          "height": 36
        },
        "id": "711MxtT1m5bt",
        "outputId": "414b922d-4cbc-4abd-9a1e-444027a6a384"
      },
      "execution_count": 15,
      "outputs": [
        {
          "output_type": "execute_result",
          "data": {
            "text/plain": [
              "'font-family: SofiaProBold; font-size:36px'"
            ],
            "application/vnd.google.colaboratory.intrinsic+json": {
              "type": "string"
            }
          },
          "metadata": {},
          "execution_count": 15
        }
      ]
    },
    {
      "cell_type": "code",
      "source": [
        "dict_instead_of_education = {key:value for key,value in headings_style.items() if key!='education'}\n",
        "dict_instead_of_education"
      ],
      "metadata": {
        "colab": {
          "base_uri": "https://localhost:8080/"
        },
        "id": "DUSkhzLonQZZ",
        "outputId": "d9a6a541-251c-423a-d168-aa2b3cfd8a76"
      },
      "execution_count": 16,
      "outputs": [
        {
          "output_type": "execute_result",
          "data": {
            "text/plain": [
              "{'experience': 'font-family: Graphik-Regular; font-size:38px',\n",
              " 'skill': 'font-family: SofiaProBold; font-size:36px',\n",
              " 'award': 'font-family: Graphik-RegularItalic; font-size:38px',\n",
              " 'project': 'font-family: SofiaProBold; font-size:36px'}"
            ]
          },
          "metadata": {},
          "execution_count": 16
        }
      ]
    },
    {
      "cell_type": "code",
      "source": [
        "required_text = None\n",
        "output = ''\n",
        "\n",
        "for each_span in soup.find_all('span'):\n",
        "    text = each_span.get_text().strip().lower()  # Convert text to lowercase for case-insensitive comparison\n",
        "    span_style = each_span.get('style')\n",
        "    text_style = None\n",
        "    text_next = \"\"\n",
        "\n",
        "    if span_style == education_style and 'education' in text:\n",
        "        output += str(each_span)\n",
        "        next_text = each_span.find_next('span')\n",
        "        output += str(next_text)\n",
        "        for key, value in dict_instead_of_education.items():\n",
        "\n",
        "            # Check if the font size doesn't match and the key is not in the text_next\n",
        "            if value != text_style and key not in text_next:\n",
        "                #and each_span.find_parent('div') is not None and each_span.find_next_sibling() is None\n",
        "                required_text = next_text.find_next('span')\n",
        "\n",
        "                text_next = required_text.get_text().strip().lower()\n",
        "                text_style = required_text.get('style')\n",
        "                next_text=required_text\n",
        "                output += str(required_text)\n",
        "            else:\n",
        "              continue\n",
        "\n",
        "\n",
        "html_output = HTML(output)\n",
        "display(html_output)"
      ],
      "metadata": {
        "colab": {
          "base_uri": "https://localhost:8080/",
          "height": 296
        },
        "id": "Vxi99atxSUsG",
        "outputId": "4809c33f-765b-4d6f-d0f4-932134fd7a3d"
      },
      "execution_count": 17,
      "outputs": [
        {
          "output_type": "display_data",
          "data": {
            "text/plain": [
              "<IPython.core.display.HTML object>"
            ],
            "text/html": [
              "<span style=\"font-family: SofiaProBold; font-size:36px\">EDUCATION\n",
              "<br/></span><span style=\"font-family: Graphik-Bold; font-size:45px\">National University of Singapore</span><span style=\"font-family: Graphik-Regular; font-size:45px\"> — B. Computing\n",
              "<br/></span><span style=\"font-family: Graphik-Regular; font-size:30px\">2012 - 2016\n",
              "<br/></span><span style=\"font-family: Graphik-Regular; font-size:38px\">Bachelor of Computing (honours with Distinction) in Communications and \n",
              "<br/></span><span style=\"font-family: Graphik-Regular; font-size:38px\">Media. </span>"
            ]
          },
          "metadata": {}
        }
      ]
    }
  ]
}